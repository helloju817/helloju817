{
  "nbformat": 4,
  "nbformat_minor": 0,
  "metadata": {
    "colab": {
      "provenance": [],
      "toc_visible": true
    },
    "kernelspec": {
      "name": "python3",
      "display_name": "Python 3"
    },
    "language_info": {
      "name": "python"
    }
  },
  "cells": [
    {
      "cell_type": "markdown",
      "source": [
        "# numpy"
      ],
      "metadata": {
        "id": "0YQOLqHkWhGn"
      }
    },
    {
      "cell_type": "code",
      "source": [
        "import numpy as np\n",
        "np.set_printoptions(precision=4, suppress=True)\n",
        "# suppress=True 를 통해 숫자를 지수 표현이 아닌 숫자 표현이 가능\n",
        "# precision 에 숫자를 입력하여 소수점 자리수 설정\n",
        "import matplotlib.pyplot as plt"
      ],
      "metadata": {
        "id": "dbjlsdMm8K-6"
      },
      "execution_count": null,
      "outputs": []
    },
    {
      "cell_type": "code",
      "source": [
        "np.random.seed(42)\n",
        "np.random.rand(5)"
      ],
      "metadata": {
        "colab": {
          "base_uri": "https://localhost:8080/"
        },
        "id": "CexXYAyrtCjS",
        "outputId": "89822457-a397-4292-89e7-c354c8967808"
      },
      "execution_count": null,
      "outputs": [
        {
          "output_type": "execute_result",
          "data": {
            "text/plain": [
              "array([0.3745, 0.9507, 0.732 , 0.5987, 0.156 ])"
            ]
          },
          "metadata": {},
          "execution_count": 2
        }
      ]
    },
    {
      "cell_type": "code",
      "source": [
        "np.random.seed(1)\n",
        "np.random.rand(5)"
      ],
      "metadata": {
        "colab": {
          "base_uri": "https://localhost:8080/"
        },
        "id": "s0eXLIZRtG-N",
        "outputId": "47ca719b-21f2-482a-b7de-be11bc16b73f"
      },
      "execution_count": null,
      "outputs": [
        {
          "output_type": "execute_result",
          "data": {
            "text/plain": [
              "array([0.417 , 0.7203, 0.0001, 0.3023, 0.1468])"
            ]
          },
          "metadata": {},
          "execution_count": 3
        }
      ]
    },
    {
      "cell_type": "code",
      "source": [
        "np.random.seed(42)\n",
        "np.random.rand(5)"
      ],
      "metadata": {
        "colab": {
          "base_uri": "https://localhost:8080/"
        },
        "id": "npXZ9r7atHsF",
        "outputId": "e8c3e017-6e54-4225-873f-6d7797c585a9"
      },
      "execution_count": null,
      "outputs": [
        {
          "output_type": "execute_result",
          "data": {
            "text/plain": [
              "array([0.3745, 0.9507, 0.732 , 0.5987, 0.156 ])"
            ]
          },
          "metadata": {},
          "execution_count": 4
        }
      ]
    },
    {
      "cell_type": "code",
      "source": [
        "# 성능 차이를 확인하기 위해 1백만 개의 정수를 저장하는 넘파이 배열과 리스트를 비교\n",
        "my_arr = np.arange(1000000)\n",
        "my_list = list(range(1000000))"
      ],
      "metadata": {
        "id": "uruU9_FBt_wF"
      },
      "execution_count": null,
      "outputs": []
    },
    {
      "cell_type": "code",
      "source": [
        "%timeit my_arr2 = my_arr * 2\n",
        "%timeit my_list2 = [x * 2 for x in my_list]\n",
        "# 넘파이 배열이 리스트보다 수십, 수백배 정도 더 빠르고 메모리도 적게 사용"
      ],
      "metadata": {
        "colab": {
          "base_uri": "https://localhost:8080/"
        },
        "id": "qGvTb9wQvDhw",
        "outputId": "c68e335d-f0cd-4c79-9526-a5f6a90a703d"
      },
      "execution_count": null,
      "outputs": [
        {
          "output_type": "stream",
          "name": "stdout",
          "text": [
            "1.15 ms ± 104 µs per loop (mean ± std. dev. of 7 runs, 1000 loops each)\n",
            "86.9 ms ± 20.5 ms per loop (mean ± std. dev. of 7 runs, 10 loops each)\n"
          ]
        }
      ]
    },
    {
      "cell_type": "code",
      "source": [
        "86.9/1.15\n",
        "# 약 75배 빠름"
      ],
      "metadata": {
        "colab": {
          "base_uri": "https://localhost:8080/"
        },
        "id": "kyUJO2VO8tcv",
        "outputId": "9bc4c8b3-b1c2-4c41-ac49-4cad0d99910d"
      },
      "execution_count": null,
      "outputs": [
        {
          "output_type": "execute_result",
          "data": {
            "text/plain": [
              "75.56521739130436"
            ]
          },
          "metadata": {},
          "execution_count": 14
        }
      ]
    },
    {
      "cell_type": "markdown",
      "source": [
        "# ndarray 생성"
      ],
      "metadata": {
        "id": "Vz-X0GeCdRsd"
      }
    },
    {
      "cell_type": "markdown",
      "source": [
        "## 1차원 배열"
      ],
      "metadata": {
        "id": "9bnsM_iOeNft"
      }
    },
    {
      "cell_type": "code",
      "source": [
        "data1 = [6, 7.5, 8, 0, 1]\n",
        "arr1 = np.array(data1)\n",
        "arr1"
      ],
      "metadata": {
        "colab": {
          "base_uri": "https://localhost:8080/"
        },
        "id": "YYbg5_lYeRmU",
        "outputId": "ed5979de-67c8-481b-b786-147054d5446a"
      },
      "execution_count": null,
      "outputs": [
        {
          "output_type": "execute_result",
          "data": {
            "text/plain": [
              "array([6. , 7.5, 8. , 0. , 1. ])"
            ]
          },
          "metadata": {},
          "execution_count": 22
        }
      ]
    },
    {
      "cell_type": "code",
      "source": [
        "type(arr1)\n",
        "# ndarray = n 차원 배열"
      ],
      "metadata": {
        "colab": {
          "base_uri": "https://localhost:8080/"
        },
        "id": "wbT3bvIieci2",
        "outputId": "0774a0d5-22e6-422f-b7aa-f886b6e5adc1"
      },
      "execution_count": null,
      "outputs": [
        {
          "output_type": "execute_result",
          "data": {
            "text/plain": [
              "numpy.ndarray"
            ]
          },
          "metadata": {},
          "execution_count": 23
        }
      ]
    },
    {
      "cell_type": "code",
      "source": [
        "list1 = [2,4,3,1]\n",
        "type(list1)"
      ],
      "metadata": {
        "colab": {
          "base_uri": "https://localhost:8080/"
        },
        "id": "vDHnfPDde_w8",
        "outputId": "ac114304-1d39-4163-f1a2-0fa072fba2dd"
      },
      "execution_count": null,
      "outputs": [
        {
          "output_type": "execute_result",
          "data": {
            "text/plain": [
              "list"
            ]
          },
          "metadata": {},
          "execution_count": 24
        }
      ]
    },
    {
      "cell_type": "code",
      "source": [
        "# 서로 다른 자료형이기 때문에 같은 연산을 적용해도 다르게 작동할 수 있음\n",
        "print(arr1 * 2) # 각 요소마다 연산 적용\n",
        "print(list1 * 2) # 리스트 반복"
      ],
      "metadata": {
        "colab": {
          "base_uri": "https://localhost:8080/"
        },
        "id": "3ejkuGAHfHMM",
        "outputId": "48eb7dc9-7002-4785-c08f-7da3719d6b7a"
      },
      "execution_count": null,
      "outputs": [
        {
          "output_type": "stream",
          "name": "stdout",
          "text": [
            "[12. 15. 16.  0.  2.]\n",
            "[2, 4, 3, 1, 2, 4, 3, 1]\n"
          ]
        }
      ]
    },
    {
      "cell_type": "code",
      "source": [
        "print(arr1 * 2) # 각 요소마다 연산 적용"
      ],
      "metadata": {
        "id": "ec5_2Zq3wAvg",
        "colab": {
          "base_uri": "https://localhost:8080/"
        },
        "outputId": "59759a4c-9c96-44c2-be78-3db7bd929fa5"
      },
      "execution_count": null,
      "outputs": [
        {
          "output_type": "stream",
          "name": "stdout",
          "text": [
            "[12. 15. 16.  0.  2.]\n"
          ]
        }
      ]
    },
    {
      "cell_type": "code",
      "source": [
        "# 배열 차원의 크기\n",
        "arr1.shape\n",
        "# 열\n",
        "# 1 * 5"
      ],
      "metadata": {
        "colab": {
          "base_uri": "https://localhost:8080/"
        },
        "outputId": "01b09b33-e372-4d53-b13e-b91ec753110d",
        "id": "L1VIrPTt2O8A"
      },
      "execution_count": null,
      "outputs": [
        {
          "output_type": "execute_result",
          "data": {
            "text/plain": [
              "(5,)"
            ]
          },
          "metadata": {},
          "execution_count": 28
        }
      ]
    },
    {
      "cell_type": "code",
      "source": [
        "arr1.ndim\n",
        "# 행 1"
      ],
      "metadata": {
        "colab": {
          "base_uri": "https://localhost:8080/"
        },
        "outputId": "f64f5f6a-f1fa-42b8-a727-14b390c9455d",
        "id": "kEZzi_Y32O8J"
      },
      "execution_count": null,
      "outputs": [
        {
          "output_type": "execute_result",
          "data": {
            "text/plain": [
              "1"
            ]
          },
          "metadata": {},
          "execution_count": 29
        }
      ]
    },
    {
      "cell_type": "code",
      "execution_count": null,
      "metadata": {
        "colab": {
          "base_uri": "https://localhost:8080/"
        },
        "outputId": "05ef13f6-8a63-44a3-d7e7-4cf33a27a95d",
        "id": "766inuoW2O8J"
      },
      "outputs": [
        {
          "output_type": "execute_result",
          "data": {
            "text/plain": [
              "dtype('float64')"
            ]
          },
          "metadata": {},
          "execution_count": 30
        }
      ],
      "source": [
        "# 배열에 저장된 자료형\n",
        "arr1.dtype"
      ]
    },
    {
      "cell_type": "markdown",
      "source": [
        "## 2차원 배열"
      ],
      "metadata": {
        "id": "zU4F4k1osWQG"
      }
    },
    {
      "cell_type": "code",
      "source": [
        "# 2차원\n",
        "data2 = [[1, 2, 3, 4], [5, 6, 7, 8]]\n",
        "arr2 = np.array(data2)\n",
        "arr2"
      ],
      "metadata": {
        "id": "o4XraQ2rfaMs",
        "colab": {
          "base_uri": "https://localhost:8080/"
        },
        "outputId": "49888e6f-f6bf-4bfc-b19d-5fbd60a8ec0c"
      },
      "execution_count": null,
      "outputs": [
        {
          "output_type": "execute_result",
          "data": {
            "text/plain": [
              "array([[1, 2, 3, 4],\n",
              "       [5, 6, 7, 8]])"
            ]
          },
          "metadata": {},
          "execution_count": 6
        }
      ]
    },
    {
      "cell_type": "code",
      "source": [
        "type(arr2)\n",
        "# ndarray = n 차원 배열"
      ],
      "metadata": {
        "colab": {
          "base_uri": "https://localhost:8080/"
        },
        "outputId": "e1dd2a4d-f597-4095-bceb-ce72daed0d8d",
        "id": "Dh8eQVcQMiZb"
      },
      "execution_count": null,
      "outputs": [
        {
          "output_type": "execute_result",
          "data": {
            "text/plain": [
              "numpy.ndarray"
            ]
          },
          "metadata": {},
          "execution_count": 7
        }
      ]
    },
    {
      "cell_type": "code",
      "source": [
        "# 각 요소마다 연산 적용\n",
        "arr2 * 10"
      ],
      "metadata": {
        "colab": {
          "base_uri": "https://localhost:8080/"
        },
        "id": "EuVi6zyDsp4r",
        "outputId": "ad7828e7-958d-4d8d-8011-ac8eeeabaacc"
      },
      "execution_count": null,
      "outputs": [
        {
          "output_type": "execute_result",
          "data": {
            "text/plain": [
              "array([[10, 20, 30, 40],\n",
              "       [50, 60, 70, 80]])"
            ]
          },
          "metadata": {},
          "execution_count": 32
        }
      ]
    },
    {
      "cell_type": "code",
      "source": [
        "# 같은 위치의 값끼리 연산\n",
        "arr2 + arr2"
      ],
      "metadata": {
        "colab": {
          "base_uri": "https://localhost:8080/"
        },
        "id": "ufpgIC8Us-Kn",
        "outputId": "80078afe-2eef-45b6-d1ba-7ea0f12f9374"
      },
      "execution_count": null,
      "outputs": [
        {
          "output_type": "execute_result",
          "data": {
            "text/plain": [
              "array([[ 2,  4,  6,  8],\n",
              "       [10, 12, 14, 16]])"
            ]
          },
          "metadata": {},
          "execution_count": 33
        }
      ]
    },
    {
      "cell_type": "code",
      "source": [
        "# 배열 차원의 크기\n",
        "arr2.shape\n",
        "# 행 열\n",
        "# 2 * 4"
      ],
      "metadata": {
        "colab": {
          "base_uri": "https://localhost:8080/"
        },
        "id": "qT4sFpR4wtjg",
        "outputId": "7a0da254-0be5-4ef3-b110-b8ce1f6f953a"
      },
      "execution_count": null,
      "outputs": [
        {
          "output_type": "execute_result",
          "data": {
            "text/plain": [
              "(2, 4)"
            ]
          },
          "metadata": {},
          "execution_count": 34
        }
      ]
    },
    {
      "cell_type": "code",
      "source": [
        "arr2.ndim\n",
        "# 행 2"
      ],
      "metadata": {
        "colab": {
          "base_uri": "https://localhost:8080/"
        },
        "id": "_-AYIjPLzbpS",
        "outputId": "8dad5eea-3341-414b-bbe0-f5d3e63ac13e"
      },
      "execution_count": null,
      "outputs": [
        {
          "output_type": "execute_result",
          "data": {
            "text/plain": [
              "2"
            ]
          },
          "metadata": {},
          "execution_count": 35
        }
      ]
    },
    {
      "cell_type": "code",
      "execution_count": null,
      "metadata": {
        "id": "_pfvQXrxv__W",
        "colab": {
          "base_uri": "https://localhost:8080/"
        },
        "outputId": "e21b28af-c5ed-4d80-9872-66f206305d2b"
      },
      "outputs": [
        {
          "output_type": "execute_result",
          "data": {
            "text/plain": [
              "dtype('int64')"
            ]
          },
          "metadata": {},
          "execution_count": 36
        }
      ],
      "source": [
        "# 배열에 저장된 자료형\n",
        "arr2.dtype"
      ]
    },
    {
      "cell_type": "markdown",
      "source": [
        "## 3차원 배열"
      ],
      "metadata": {
        "id": "rFhhnLWvHubN"
      }
    },
    {
      "cell_type": "code",
      "source": [
        "# 3차원\n",
        "data3 = [\n",
        "         [[1, 2, 3, 4], [5, 6, 7, 8]],\n",
        "         [[1, 2, 3, 4], [5, 6, 7, 8]],\n",
        "         [[1, 2, 3, 4], [5, 6, 7, 8]]\n",
        "        ]\n",
        "arr3 = np.array(data3)\n",
        "arr3"
      ],
      "metadata": {
        "colab": {
          "base_uri": "https://localhost:8080/"
        },
        "outputId": "a89e2b91-82ef-4923-9106-6d1135665718",
        "id": "3T563lh7HubO"
      },
      "execution_count": null,
      "outputs": [
        {
          "output_type": "execute_result",
          "data": {
            "text/plain": [
              "array([[[1, 2, 3, 4],\n",
              "        [5, 6, 7, 8]],\n",
              "\n",
              "       [[1, 2, 3, 4],\n",
              "        [5, 6, 7, 8]],\n",
              "\n",
              "       [[1, 2, 3, 4],\n",
              "        [5, 6, 7, 8]]])"
            ]
          },
          "metadata": {},
          "execution_count": 8
        }
      ]
    },
    {
      "cell_type": "code",
      "source": [
        "type(arr3)\n",
        "# ndarray = n 차원 배열"
      ],
      "metadata": {
        "colab": {
          "base_uri": "https://localhost:8080/"
        },
        "outputId": "db7467f1-41ac-468c-dead-17e7ce5e8adc",
        "id": "2eZ_pWPXO_kn"
      },
      "execution_count": null,
      "outputs": [
        {
          "output_type": "execute_result",
          "data": {
            "text/plain": [
              "numpy.ndarray"
            ]
          },
          "metadata": {},
          "execution_count": 9
        }
      ]
    },
    {
      "cell_type": "code",
      "source": [
        "# 각 요소마다 연산 적용\n",
        "arr3 * 10"
      ],
      "metadata": {
        "colab": {
          "base_uri": "https://localhost:8080/"
        },
        "outputId": "f9c5a2db-781e-442f-8d69-05c6aa5ddf19",
        "id": "kzx40OpBHubO"
      },
      "execution_count": null,
      "outputs": [
        {
          "output_type": "execute_result",
          "data": {
            "text/plain": [
              "array([[[10, 20, 30, 40],\n",
              "        [50, 60, 70, 80]],\n",
              "\n",
              "       [[10, 20, 30, 40],\n",
              "        [50, 60, 70, 80]],\n",
              "\n",
              "       [[10, 20, 30, 40],\n",
              "        [50, 60, 70, 80]]])"
            ]
          },
          "metadata": {},
          "execution_count": 38
        }
      ]
    },
    {
      "cell_type": "code",
      "source": [
        "# 같은 위치의 값끼리 연산\n",
        "arr3 + arr3"
      ],
      "metadata": {
        "colab": {
          "base_uri": "https://localhost:8080/"
        },
        "outputId": "cbbcb9c6-60f7-4e44-8f9a-9e749ddf2cad",
        "id": "IrF5TRQPHubO"
      },
      "execution_count": null,
      "outputs": [
        {
          "output_type": "execute_result",
          "data": {
            "text/plain": [
              "array([[[ 2,  4,  6,  8],\n",
              "        [10, 12, 14, 16]],\n",
              "\n",
              "       [[ 2,  4,  6,  8],\n",
              "        [10, 12, 14, 16]],\n",
              "\n",
              "       [[ 2,  4,  6,  8],\n",
              "        [10, 12, 14, 16]]])"
            ]
          },
          "metadata": {},
          "execution_count": 39
        }
      ]
    },
    {
      "cell_type": "code",
      "source": [
        "# 배열 차원의 크기\n",
        "arr3.shape\n",
        "# 층 행 열\n",
        "# 3 * 2 * 4"
      ],
      "metadata": {
        "colab": {
          "base_uri": "https://localhost:8080/"
        },
        "outputId": "eb0aefe0-0dab-46ae-bc77-04c9129b1c0f",
        "id": "Mz-JY7x6HubO"
      },
      "execution_count": null,
      "outputs": [
        {
          "output_type": "execute_result",
          "data": {
            "text/plain": [
              "(3, 2, 4)"
            ]
          },
          "metadata": {},
          "execution_count": 40
        }
      ]
    },
    {
      "cell_type": "code",
      "source": [
        "arr3.ndim\n",
        "# 층 3"
      ],
      "metadata": {
        "colab": {
          "base_uri": "https://localhost:8080/"
        },
        "outputId": "8034ecfb-c547-4b6f-c5d2-bc928773d84a",
        "id": "zQcEphfpHubP"
      },
      "execution_count": null,
      "outputs": [
        {
          "output_type": "execute_result",
          "data": {
            "text/plain": [
              "3"
            ]
          },
          "metadata": {},
          "execution_count": 41
        }
      ]
    },
    {
      "cell_type": "code",
      "execution_count": null,
      "metadata": {
        "colab": {
          "base_uri": "https://localhost:8080/"
        },
        "outputId": "f9a0371e-44a0-4ec5-d857-2e6c5dfabd93",
        "id": "Pwb4sgwJHubP"
      },
      "outputs": [
        {
          "output_type": "execute_result",
          "data": {
            "text/plain": [
              "dtype('int64')"
            ]
          },
          "metadata": {},
          "execution_count": 42
        }
      ],
      "source": [
        "# 배열에 저장된 자료형\n",
        "arr3.dtype"
      ]
    },
    {
      "cell_type": "markdown",
      "source": [
        "## array 관련 함수"
      ],
      "metadata": {
        "id": "En6y3ThB33lB"
      }
    },
    {
      "cell_type": "code",
      "execution_count": null,
      "metadata": {
        "id": "mSoJ4iBTv__X",
        "colab": {
          "base_uri": "https://localhost:8080/"
        },
        "outputId": "ad572836-bfe1-4618-f6ef-2c3c740b7058"
      },
      "outputs": [
        {
          "output_type": "execute_result",
          "data": {
            "text/plain": [
              "array([0., 0., 0., 0., 0., 0., 0., 0., 0., 0.])"
            ]
          },
          "metadata": {},
          "execution_count": 43
        }
      ],
      "source": [
        "# 0 이 들어 있는 배열\n",
        "# 배열의 형태를 직접 지정\n",
        "np.zeros(10)"
      ]
    },
    {
      "cell_type": "code",
      "source": [
        "np.zeros((3, 6))"
      ],
      "metadata": {
        "colab": {
          "base_uri": "https://localhost:8080/"
        },
        "id": "FMOYxjT03-eT",
        "outputId": "2e8e2acb-d732-434b-baca-5416b8ffce04"
      },
      "execution_count": null,
      "outputs": [
        {
          "output_type": "execute_result",
          "data": {
            "text/plain": [
              "array([[0., 0., 0., 0., 0., 0.],\n",
              "       [0., 0., 0., 0., 0., 0.],\n",
              "       [0., 0., 0., 0., 0., 0.]])"
            ]
          },
          "metadata": {},
          "execution_count": 44
        }
      ]
    },
    {
      "cell_type": "code",
      "execution_count": null,
      "metadata": {
        "colab": {
          "base_uri": "https://localhost:8080/"
        },
        "outputId": "acbf23b0-6a05-41df-b4e7-a84c1b2dc6b4",
        "id": "T3iQHw5kTmDH"
      },
      "outputs": [
        {
          "output_type": "execute_result",
          "data": {
            "text/plain": [
              "array([0., 0., 0., 0., 0.])"
            ]
          },
          "metadata": {},
          "execution_count": 47
        }
      ],
      "source": [
        "# 0 이 들어 있는 배열\n",
        "# 기존 배열을 기반으로 새로운 배열 생성\n",
        "data1 = [6, 7.5, 8, 0, 1]\n",
        "arr1 = np.array(data1)\n",
        "np.zeros_like(arr1)"
      ]
    },
    {
      "cell_type": "code",
      "source": [
        "data2 = [[1, 2, 3, 4], [5, 6, 7, 8]]\n",
        "arr2 = np.array(data2)\n",
        "np.zeros_like(arr2)"
      ],
      "metadata": {
        "colab": {
          "base_uri": "https://localhost:8080/"
        },
        "outputId": "e2a74f1b-61ff-408b-a6c6-7f4b683dbfde",
        "id": "T13Qb7R-TmDI"
      },
      "execution_count": null,
      "outputs": [
        {
          "output_type": "execute_result",
          "data": {
            "text/plain": [
              "array([[0, 0, 0, 0],\n",
              "       [0, 0, 0, 0]])"
            ]
          },
          "metadata": {},
          "execution_count": 48
        }
      ]
    },
    {
      "cell_type": "code",
      "execution_count": null,
      "metadata": {
        "colab": {
          "base_uri": "https://localhost:8080/"
        },
        "outputId": "c91754a6-e01c-4e93-f824-27b480dcd7e1",
        "id": "ChAdEJEr4Dhz"
      },
      "outputs": [
        {
          "output_type": "execute_result",
          "data": {
            "text/plain": [
              "array([1., 1., 1., 1., 1., 1., 1., 1., 1., 1.])"
            ]
          },
          "metadata": {},
          "execution_count": 49
        }
      ],
      "source": [
        "# zeros, zeros_like 와 동일하지만 내용을 1 로 채우는 배열\n",
        "# 배열의 형태를 직접 지정\n",
        "np.ones(10)"
      ]
    },
    {
      "cell_type": "code",
      "source": [
        "np.ones((3, 6))"
      ],
      "metadata": {
        "colab": {
          "base_uri": "https://localhost:8080/"
        },
        "outputId": "5def0e61-9375-41bd-9ea0-bab51466c5f7",
        "id": "Wa3wjlal4Dh6"
      },
      "execution_count": null,
      "outputs": [
        {
          "output_type": "execute_result",
          "data": {
            "text/plain": [
              "array([[1., 1., 1., 1., 1., 1.],\n",
              "       [1., 1., 1., 1., 1., 1.],\n",
              "       [1., 1., 1., 1., 1., 1.]])"
            ]
          },
          "metadata": {},
          "execution_count": 50
        }
      ]
    },
    {
      "cell_type": "code",
      "execution_count": null,
      "metadata": {
        "colab": {
          "base_uri": "https://localhost:8080/"
        },
        "outputId": "3962af64-5eca-4785-d740-5a694cc8ba49",
        "id": "3HyKOWGDVDpY"
      },
      "outputs": [
        {
          "output_type": "execute_result",
          "data": {
            "text/plain": [
              "array([1., 1., 1., 1., 1.])"
            ]
          },
          "metadata": {},
          "execution_count": 51
        }
      ],
      "source": [
        "# zeros, zeros_like 와 동일하지만 내용을 1 로 채우는 배열\n",
        "# 기존 배열을 기반으로 새로운 배열 생성\n",
        "data1 = [6, 7.5, 8, 0, 1]\n",
        "arr1 = np.array(data1)\n",
        "np.ones_like(arr1)"
      ]
    },
    {
      "cell_type": "code",
      "source": [
        "data2 = [[1, 2, 3, 4], [5, 6, 7, 8]]\n",
        "arr2 = np.array(data2)\n",
        "np.ones_like(arr2)"
      ],
      "metadata": {
        "colab": {
          "base_uri": "https://localhost:8080/"
        },
        "outputId": "ae282212-f0fb-4c1f-d35e-569975859ca6",
        "id": "_ukcsqCvVDpj"
      },
      "execution_count": null,
      "outputs": [
        {
          "output_type": "execute_result",
          "data": {
            "text/plain": [
              "array([[1, 1, 1, 1],\n",
              "       [1, 1, 1, 1]])"
            ]
          },
          "metadata": {},
          "execution_count": 52
        }
      ]
    },
    {
      "cell_type": "code",
      "source": [
        "# ones 와 비슷하게 1 이 들어 있는 배열을 만들지만, 대각선 방향으로 채움 = 단위행렬\n",
        "np.eye(3, 6)\n",
        "# 기본값이 첫 번째 열부터 시작"
      ],
      "metadata": {
        "colab": {
          "base_uri": "https://localhost:8080/"
        },
        "id": "C1c6zGzRH1M_",
        "outputId": "b2c9cfc7-f567-4fac-f855-9bdc6d0c527c"
      },
      "execution_count": null,
      "outputs": [
        {
          "output_type": "execute_result",
          "data": {
            "text/plain": [
              "array([[1., 0., 0., 0., 0., 0.],\n",
              "       [0., 1., 0., 0., 0., 0.],\n",
              "       [0., 0., 1., 0., 0., 0.]])"
            ]
          },
          "metadata": {},
          "execution_count": 53
        }
      ]
    },
    {
      "cell_type": "code",
      "source": [
        "np.eye(3, 6, 2)\n",
        "# 3 번째 입력하는 숫자 - 세 번째 열부터 시작하게 설정"
      ],
      "metadata": {
        "colab": {
          "base_uri": "https://localhost:8080/"
        },
        "id": "rphk4fUBIGU3",
        "outputId": "7e9957e0-bcd8-4759-d80f-1ed64f81f651"
      },
      "execution_count": null,
      "outputs": [
        {
          "output_type": "execute_result",
          "data": {
            "text/plain": [
              "array([[0., 0., 1., 0., 0., 0.],\n",
              "       [0., 0., 0., 1., 0., 0.],\n",
              "       [0., 0., 0., 0., 1., 0.]])"
            ]
          },
          "metadata": {},
          "execution_count": 54
        }
      ]
    },
    {
      "cell_type": "code",
      "source": [
        "# 초기화되지 않은 배열 = ones 나 zeros 처럼 값을 초기화하지 않음\n",
        "# 초기화되지 않은 메모리를 반환하기 때문에 0 이 아닌 가비지 값을 포함할 수 있음\n",
        "# 데이터를 새로 채우기 위해 배열을 생성하는 경우에 사용할 것\n",
        "# 배열의 형태를 직접 지정\n",
        "np.empty((2, 3, 2))"
      ],
      "metadata": {
        "colab": {
          "base_uri": "https://localhost:8080/"
        },
        "id": "1fnbt4wP3_nv",
        "outputId": "ab27a305-2ce0-4e9d-922e-63b99e49107a"
      },
      "execution_count": null,
      "outputs": [
        {
          "output_type": "execute_result",
          "data": {
            "text/plain": [
              "array([[[4.6472e-310, 0.0000e+000],\n",
              "        [0.0000e+000, 0.0000e+000],\n",
              "        [6.8619e-310, 1.5001e+248]],\n",
              "\n",
              "       [[4.3117e-096, 1.1600e-028],\n",
              "        [3.7778e+180, 1.1600e-028],\n",
              "        [4.1946e+228, 1.5554e+161]]])"
            ]
          },
          "metadata": {},
          "execution_count": 12
        }
      ]
    },
    {
      "cell_type": "code",
      "source": [
        "# 초기화되지 않은 배열 = ones 나 zeros 처럼 값을 초기화하지 않음\n",
        "# 기존 배열을 기반으로 새로운 배열 생성\n",
        "data3 = [\n",
        "         [[1, 2, 3, 4], [5, 6, 7, 8]],\n",
        "         [[1, 2, 3, 4], [5, 6, 7, 8]],\n",
        "         [[1, 2, 3, 4], [5, 6, 7, 8]]\n",
        "        ]\n",
        "arr3 = np.array(data3)\n",
        "np.empty_like(arr3)"
      ],
      "metadata": {
        "colab": {
          "base_uri": "https://localhost:8080/"
        },
        "id": "Vs0nJriWV2CS",
        "outputId": "548c1072-1167-46ca-ddbf-cc5e3cf1c7a0"
      },
      "execution_count": null,
      "outputs": [
        {
          "output_type": "execute_result",
          "data": {
            "text/plain": [
              "array([[[     96910628987983,                   0, 8246760659587506286,\n",
              "         7957614690910108001],\n",
              "        [2335244403110605669, 7953674036962224243, 8007511671213138020,\n",
              "         3347429548792291430]],\n",
              "\n",
              "       [[7815265016535326730, 4188459165459177324, 2336931105441403424,\n",
              "         8241904490239631457],\n",
              "        [7526756837609791858, 8007511670809719584, 2338623232261300326,\n",
              "         8583971276541684070]],\n",
              "\n",
              "       [[8461244959900071017, 8800068994230529637, 5917793821414879845,\n",
              "         2333181740693419109],\n",
              "        [7021800530506114414, 7956018259993763961, 8315181395361538151,\n",
              "         8030592660759606304]]])"
            ]
          },
          "metadata": {},
          "execution_count": 57
        }
      ]
    },
    {
      "cell_type": "code",
      "execution_count": null,
      "metadata": {
        "id": "H-ajfSVJv__X",
        "colab": {
          "base_uri": "https://localhost:8080/"
        },
        "outputId": "317ea6cd-7f35-4a92-e243-36568c0db9b0"
      },
      "outputs": [
        {
          "output_type": "execute_result",
          "data": {
            "text/plain": [
              "array([ 0,  1,  2,  3,  4,  5,  6,  7,  8,  9, 10, 11, 12, 13, 14])"
            ]
          },
          "metadata": {},
          "execution_count": 35
        }
      ],
      "source": [
        "# range 함수의 배열 버전\n",
        "np.arange(15) # 시작번호 생략 = 처음부터"
      ]
    },
    {
      "cell_type": "code",
      "source": [
        "np.arange(0, 10)\n",
        "# 시작번호, 끝번호\n",
        "# 끝번호 포함하지 않음"
      ],
      "metadata": {
        "colab": {
          "base_uri": "https://localhost:8080/"
        },
        "id": "itWG0Zf7MRck",
        "outputId": "866b10f1-e7cc-4c3a-da8c-cf2b9106755f"
      },
      "execution_count": null,
      "outputs": [
        {
          "output_type": "execute_result",
          "data": {
            "text/plain": [
              "array([0, 1, 2, 3, 4, 5, 6, 7, 8, 9])"
            ]
          },
          "metadata": {},
          "execution_count": 36
        }
      ]
    },
    {
      "cell_type": "code",
      "source": [
        "np.arange(0, 10, 2)\n",
        "# 시작번호, 끝번호, 증가값\n",
        "# 증가값 즉, 간격을 만들어 배열 생성"
      ],
      "metadata": {
        "colab": {
          "base_uri": "https://localhost:8080/"
        },
        "id": "ddsi15eFMgkY",
        "outputId": "0968ece9-a0c4-4641-b9d4-6ab8d7620334"
      },
      "execution_count": null,
      "outputs": [
        {
          "output_type": "execute_result",
          "data": {
            "text/plain": [
              "array([0, 2, 4, 6, 8])"
            ]
          },
          "metadata": {},
          "execution_count": 37
        }
      ]
    },
    {
      "cell_type": "code",
      "source": [
        "# 등분하는 배열\n",
        "np.linspace(0, 10, 5)\n",
        "# 시작번호, 끝번호, 등분의 개수\n",
        "# 끝번호 포함"
      ],
      "metadata": {
        "colab": {
          "base_uri": "https://localhost:8080/"
        },
        "id": "D1OJoNxQLrsA",
        "outputId": "36127ac1-f0b9-467a-ca2a-fd4a27c4a212"
      },
      "execution_count": null,
      "outputs": [
        {
          "output_type": "execute_result",
          "data": {
            "text/plain": [
              "array([ 0. ,  2.5,  5. ,  7.5, 10. ])"
            ]
          },
          "metadata": {},
          "execution_count": 38
        }
      ]
    },
    {
      "cell_type": "markdown",
      "source": [
        "# 자료형"
      ],
      "metadata": {
        "id": "FXTdngZx9W5N"
      }
    },
    {
      "cell_type": "code",
      "execution_count": null,
      "metadata": {
        "id": "2Pb7M5d0v__X",
        "colab": {
          "base_uri": "https://localhost:8080/"
        },
        "outputId": "20af9e7c-bd6e-4e28-d010-9c1736a31085"
      },
      "outputs": [
        {
          "output_type": "execute_result",
          "data": {
            "text/plain": [
              "array([1., 2., 3.])"
            ]
          },
          "metadata": {},
          "execution_count": 39
        }
      ],
      "source": [
        "arr1 = np.array([1, 2, 3], dtype=np.float64)\n",
        "arr1"
      ]
    },
    {
      "cell_type": "code",
      "source": [
        "arr1.dtype"
      ],
      "metadata": {
        "colab": {
          "base_uri": "https://localhost:8080/"
        },
        "id": "0Qe3vY7kPu4l",
        "outputId": "6a0798f2-5dd2-4067-e83e-b7bb4f528090"
      },
      "execution_count": null,
      "outputs": [
        {
          "output_type": "execute_result",
          "data": {
            "text/plain": [
              "dtype('float64')"
            ]
          },
          "metadata": {},
          "execution_count": 40
        }
      ]
    },
    {
      "cell_type": "code",
      "source": [
        "arr2 = np.array([1, 2, 3], dtype=np.int32)\n",
        "arr2"
      ],
      "metadata": {
        "colab": {
          "base_uri": "https://localhost:8080/"
        },
        "id": "_eMgTO2L9cN1",
        "outputId": "d4a749d4-721c-499f-aa80-2a40cba37a90"
      },
      "execution_count": null,
      "outputs": [
        {
          "output_type": "execute_result",
          "data": {
            "text/plain": [
              "array([1, 2, 3], dtype=int32)"
            ]
          },
          "metadata": {},
          "execution_count": 41
        }
      ]
    },
    {
      "cell_type": "code",
      "source": [
        "arr2.dtype"
      ],
      "metadata": {
        "colab": {
          "base_uri": "https://localhost:8080/"
        },
        "id": "ubzE53EFPx9S",
        "outputId": "2a0be170-9915-4318-9daa-134091855f46"
      },
      "execution_count": null,
      "outputs": [
        {
          "output_type": "execute_result",
          "data": {
            "text/plain": [
              "dtype('int32')"
            ]
          },
          "metadata": {},
          "execution_count": 42
        }
      ]
    },
    {
      "cell_type": "markdown",
      "source": [
        "## 명시적으로 변환"
      ],
      "metadata": {
        "id": "FefcDba5bSXC"
      }
    },
    {
      "cell_type": "code",
      "execution_count": null,
      "metadata": {
        "id": "g8BgmwQhv__X",
        "colab": {
          "base_uri": "https://localhost:8080/"
        },
        "outputId": "8b8ab42f-505d-4739-c9b1-f23f7e5a8fd9"
      },
      "outputs": [
        {
          "output_type": "execute_result",
          "data": {
            "text/plain": [
              "array([1, 2, 3, 4, 5])"
            ]
          },
          "metadata": {},
          "execution_count": 58
        }
      ],
      "source": [
        "# 명시적으로 변환 가능(int64 -> float64)\n",
        "arr = np.array([1, 2, 3, 4, 5])\n",
        "arr"
      ]
    },
    {
      "cell_type": "code",
      "source": [
        "arr.dtype"
      ],
      "metadata": {
        "colab": {
          "base_uri": "https://localhost:8080/"
        },
        "id": "oyi5O5RmP2pI",
        "outputId": "c2f6e59c-0b8f-4ff6-9601-a9a6a018527d"
      },
      "execution_count": null,
      "outputs": [
        {
          "output_type": "execute_result",
          "data": {
            "text/plain": [
              "dtype('int64')"
            ]
          },
          "metadata": {},
          "execution_count": 59
        }
      ]
    },
    {
      "cell_type": "code",
      "source": [
        "# astype\n",
        "float_arr = arr.astype(np.float64)\n",
        "float_arr"
      ],
      "metadata": {
        "colab": {
          "base_uri": "https://localhost:8080/"
        },
        "id": "f1KDzyhn9i7r",
        "outputId": "f0f20ef7-a3d0-455b-e574-8df9690f178a"
      },
      "execution_count": null,
      "outputs": [
        {
          "output_type": "execute_result",
          "data": {
            "text/plain": [
              "array([1., 2., 3., 4., 5.])"
            ]
          },
          "metadata": {},
          "execution_count": 60
        }
      ]
    },
    {
      "cell_type": "code",
      "source": [
        "float_arr.dtype"
      ],
      "metadata": {
        "colab": {
          "base_uri": "https://localhost:8080/"
        },
        "id": "CK9hBR09Psih",
        "outputId": "0a6b0c13-c82a-44d6-a7ef-e1bd02ae637a"
      },
      "execution_count": null,
      "outputs": [
        {
          "output_type": "execute_result",
          "data": {
            "text/plain": [
              "dtype('float64')"
            ]
          },
          "metadata": {},
          "execution_count": 61
        }
      ]
    },
    {
      "cell_type": "code",
      "execution_count": null,
      "metadata": {
        "id": "rt3YucAhv__X",
        "colab": {
          "base_uri": "https://localhost:8080/"
        },
        "outputId": "356cf01c-07db-4791-d19f-cfc1e460ef0d"
      },
      "outputs": [
        {
          "output_type": "execute_result",
          "data": {
            "text/plain": [
              "array([ 3.7, -1.2, -2.6,  0.5, 12.9, 10.1])"
            ]
          },
          "metadata": {},
          "execution_count": 62
        }
      ],
      "source": [
        "# float64 -> int64\n",
        "arr = np.array([3.7, -1.2, -2.6, 0.5, 12.9, 10.1])\n",
        "arr"
      ]
    },
    {
      "cell_type": "code",
      "source": [
        "arr.dtype"
      ],
      "metadata": {
        "colab": {
          "base_uri": "https://localhost:8080/"
        },
        "id": "e15ZjJ93-bmG",
        "outputId": "ca3e8413-db6a-4d2d-d163-d8083eb0d9fd"
      },
      "execution_count": null,
      "outputs": [
        {
          "output_type": "execute_result",
          "data": {
            "text/plain": [
              "dtype('float64')"
            ]
          },
          "metadata": {},
          "execution_count": 63
        }
      ]
    },
    {
      "cell_type": "code",
      "source": [
        "arr.astype(np.int32)\n",
        "# 소수점 아래 자리는 버려짐"
      ],
      "metadata": {
        "colab": {
          "base_uri": "https://localhost:8080/"
        },
        "id": "VvBIMqjG-MW3",
        "outputId": "763b7416-588b-4d94-a3b6-385cbd322fa0"
      },
      "execution_count": null,
      "outputs": [
        {
          "output_type": "execute_result",
          "data": {
            "text/plain": [
              "array([ 3, -1, -2,  0, 12, 10], dtype=int32)"
            ]
          },
          "metadata": {},
          "execution_count": 64
        }
      ]
    },
    {
      "cell_type": "code",
      "source": [
        "arr = arr.astype(np.int32)\n",
        "arr.dtype"
      ],
      "metadata": {
        "id": "JypfyQ-VC4NG",
        "colab": {
          "base_uri": "https://localhost:8080/"
        },
        "outputId": "d7d116d3-f3b3-46b2-ab81-0f1593fb52e8"
      },
      "execution_count": null,
      "outputs": [
        {
          "output_type": "execute_result",
          "data": {
            "text/plain": [
              "dtype('int32')"
            ]
          },
          "metadata": {},
          "execution_count": 65
        }
      ]
    },
    {
      "cell_type": "markdown",
      "source": [
        "## 숫자 형태의 문자열을 담고 있는 배열"
      ],
      "metadata": {
        "id": "hPOz5hGHbx9l"
      }
    },
    {
      "cell_type": "code",
      "execution_count": null,
      "metadata": {
        "id": "y_6Xq-K7v__X",
        "colab": {
          "base_uri": "https://localhost:8080/"
        },
        "outputId": "f3702892-e2f0-4cc2-e566-c902229025c7"
      },
      "outputs": [
        {
          "output_type": "execute_result",
          "data": {
            "text/plain": [
              "dtype('S4')"
            ]
          },
          "metadata": {},
          "execution_count": 68
        }
      ],
      "source": [
        "# 숫자 형태의 문자열을 담고 있는 배열\n",
        "# string_ 는 고정된 크기를 가지므로 경고 없이 임의로 잘라낼 수 있어 사용에 주의\n",
        "numeric_strings = np.array([\"1.25\", \"-9.6\", \"42\"], dtype=np.string_)\n",
        "numeric_strings.dtype\n",
        "# 길이가 4"
      ]
    },
    {
      "cell_type": "code",
      "source": [
        "numeric_strings = numeric_strings.astype(float)\n",
        "numeric_strings.dtype\n",
        "# 문자열 -> 숫자 변환\n",
        "# float64 대신 float 만 사용해도 알맞은 자료형으로 변환"
      ],
      "metadata": {
        "colab": {
          "base_uri": "https://localhost:8080/"
        },
        "id": "VGUzAp-DQlFn",
        "outputId": "b2af72f9-0aa2-4941-910b-993b9d0cdae1"
      },
      "execution_count": null,
      "outputs": [
        {
          "output_type": "execute_result",
          "data": {
            "text/plain": [
              "dtype('float64')"
            ]
          },
          "metadata": {},
          "execution_count": 69
        }
      ]
    },
    {
      "cell_type": "code",
      "source": [
        "numeric_strings = np.array([\"1.25\", \"-9.6\", \"42\"], dtype=np.string_)\n",
        "numeric_strings"
      ],
      "metadata": {
        "colab": {
          "base_uri": "https://localhost:8080/"
        },
        "id": "2PRrM_e2kKyb",
        "outputId": "923168b0-441e-4e83-cc0c-c47a42d1f322"
      },
      "execution_count": null,
      "outputs": [
        {
          "output_type": "execute_result",
          "data": {
            "text/plain": [
              "array([b'1.25', b'-9.6', b'42'], dtype='|S4')"
            ]
          },
          "metadata": {},
          "execution_count": 66
        }
      ]
    },
    {
      "cell_type": "code",
      "source": [
        "numeric_strings = np.array([\"1.25\", \"-9.6\", \"42\"], dtype=np.unicode_)\n",
        "numeric_strings"
      ],
      "metadata": {
        "colab": {
          "base_uri": "https://localhost:8080/"
        },
        "id": "AyYcffeckNCn",
        "outputId": "4ea22404-107e-488d-90e3-15e1a8d90499"
      },
      "execution_count": null,
      "outputs": [
        {
          "output_type": "execute_result",
          "data": {
            "text/plain": [
              "array(['1.25', '-9.6', '42'], dtype='<U4')"
            ]
          },
          "metadata": {},
          "execution_count": 67
        }
      ]
    },
    {
      "cell_type": "markdown",
      "source": [
        "## 다른 배열의 속성 사용"
      ],
      "metadata": {
        "id": "-Y0Fss-dbNmt"
      }
    },
    {
      "cell_type": "code",
      "execution_count": null,
      "metadata": {
        "id": "bRdES3kyv__Y",
        "colab": {
          "base_uri": "https://localhost:8080/"
        },
        "outputId": "89d56f50-7f3e-4719-88fe-4f0b66f99cef"
      },
      "outputs": [
        {
          "output_type": "execute_result",
          "data": {
            "text/plain": [
              "array([0, 1, 2, 3, 4, 5, 6, 7, 8, 9])"
            ]
          },
          "metadata": {},
          "execution_count": 53
        }
      ],
      "source": [
        "# 다른 배열의 속성 사용 가능\n",
        "int_array = np.arange(10)\n",
        "int_array"
      ]
    },
    {
      "cell_type": "code",
      "source": [
        "int_array.dtype"
      ],
      "metadata": {
        "colab": {
          "base_uri": "https://localhost:8080/"
        },
        "id": "Prp89BZLa19r",
        "outputId": "bc5f4b27-85aa-4c94-d1cc-896a63ee00c8"
      },
      "execution_count": null,
      "outputs": [
        {
          "output_type": "execute_result",
          "data": {
            "text/plain": [
              "dtype('int64')"
            ]
          },
          "metadata": {},
          "execution_count": 54
        }
      ]
    },
    {
      "cell_type": "code",
      "source": [
        "calibers = np.array([.22, .270, .357, .380, .44, .50], dtype=np.float64)\n",
        "calibers"
      ],
      "metadata": {
        "colab": {
          "base_uri": "https://localhost:8080/"
        },
        "id": "_duu8jDQaxjq",
        "outputId": "51074049-7e4f-4559-e498-06dc22fdf374"
      },
      "execution_count": null,
      "outputs": [
        {
          "output_type": "execute_result",
          "data": {
            "text/plain": [
              "array([0.22 , 0.27 , 0.357, 0.38 , 0.44 , 0.5  ])"
            ]
          },
          "metadata": {},
          "execution_count": 55
        }
      ]
    },
    {
      "cell_type": "code",
      "source": [
        "calibers.dtype"
      ],
      "metadata": {
        "colab": {
          "base_uri": "https://localhost:8080/"
        },
        "id": "HRQHE38ba8PL",
        "outputId": "91402778-5280-4375-d3b7-8ab77a02ad15"
      },
      "execution_count": null,
      "outputs": [
        {
          "output_type": "execute_result",
          "data": {
            "text/plain": [
              "dtype('float64')"
            ]
          },
          "metadata": {},
          "execution_count": 56
        }
      ]
    },
    {
      "cell_type": "code",
      "source": [
        "int_array = int_array.astype(calibers.dtype)\n",
        "int_array"
      ],
      "metadata": {
        "colab": {
          "base_uri": "https://localhost:8080/"
        },
        "id": "ri0KJ6JQa5_c",
        "outputId": "fc3791e6-013f-4dd6-ac9d-3fc909191c14"
      },
      "execution_count": null,
      "outputs": [
        {
          "output_type": "execute_result",
          "data": {
            "text/plain": [
              "array([0., 1., 2., 3., 4., 5., 6., 7., 8., 9.])"
            ]
          },
          "metadata": {},
          "execution_count": 57
        }
      ]
    },
    {
      "cell_type": "code",
      "source": [
        "int_array.dtype"
      ],
      "metadata": {
        "colab": {
          "base_uri": "https://localhost:8080/"
        },
        "id": "PVTAF1AmbFCW",
        "outputId": "bdafee78-d80e-45d9-a108-8cb128feef0b"
      },
      "execution_count": null,
      "outputs": [
        {
          "output_type": "execute_result",
          "data": {
            "text/plain": [
              "dtype('float64')"
            ]
          },
          "metadata": {},
          "execution_count": 58
        }
      ]
    },
    {
      "cell_type": "markdown",
      "source": [
        "## dtype 코드"
      ],
      "metadata": {
        "id": "hFkgysmob2GJ"
      }
    },
    {
      "cell_type": "code",
      "execution_count": null,
      "metadata": {
        "id": "lQ3JfP_Rv__Y",
        "colab": {
          "base_uri": "https://localhost:8080/"
        },
        "outputId": "e4da6b03-afc8-42ff-8954-55d8b1f05a38"
      },
      "outputs": [
        {
          "output_type": "execute_result",
          "data": {
            "text/plain": [
              "array([0, 0, 0, 0, 0, 0, 0, 0], dtype=uint32)"
            ]
          },
          "metadata": {},
          "execution_count": 59
        }
      ],
      "source": [
        "# dtype 코드 사용 가능\n",
        "zeros_uint32 = np.zeros(8, dtype=\"u4\")\n",
        "zeros_uint32"
      ]
    },
    {
      "cell_type": "markdown",
      "source": [
        "# 산술 연산"
      ],
      "metadata": {
        "id": "5Jgs675gdKuh"
      }
    },
    {
      "cell_type": "code",
      "execution_count": null,
      "metadata": {
        "id": "bhBZg_jLv__Y",
        "colab": {
          "base_uri": "https://localhost:8080/"
        },
        "outputId": "8c9bef73-7bd4-461b-a142-2deed973e428"
      },
      "outputs": [
        {
          "output_type": "execute_result",
          "data": {
            "text/plain": [
              "array([[1., 2., 3.],\n",
              "       [4., 5., 6.]])"
            ]
          },
          "metadata": {},
          "execution_count": 60
        }
      ],
      "source": [
        "# 크기가 동일한 배열 간의 산술 연산은 배열의 각 요소 단위로 적용\n",
        "arr = np.array([[1., 2., 3.], [4., 5., 6.]])\n",
        "arr"
      ]
    },
    {
      "cell_type": "code",
      "source": [
        "arr * arr"
      ],
      "metadata": {
        "colab": {
          "base_uri": "https://localhost:8080/"
        },
        "id": "Ql0jATCgd3zE",
        "outputId": "9b05141d-5c94-4ac0-b9c9-7900e91edfa2"
      },
      "execution_count": null,
      "outputs": [
        {
          "output_type": "execute_result",
          "data": {
            "text/plain": [
              "array([[ 1.,  4.,  9.],\n",
              "       [16., 25., 36.]])"
            ]
          },
          "metadata": {},
          "execution_count": 61
        }
      ]
    },
    {
      "cell_type": "code",
      "source": [
        "arr - arr"
      ],
      "metadata": {
        "colab": {
          "base_uri": "https://localhost:8080/"
        },
        "id": "fDvX6VOvd41N",
        "outputId": "f3c038bb-b0ea-4dc8-e6ba-deeb48e298e7"
      },
      "execution_count": null,
      "outputs": [
        {
          "output_type": "execute_result",
          "data": {
            "text/plain": [
              "array([[0., 0., 0.],\n",
              "       [0., 0., 0.]])"
            ]
          },
          "metadata": {},
          "execution_count": 62
        }
      ]
    },
    {
      "cell_type": "code",
      "execution_count": null,
      "metadata": {
        "id": "mmRS4D4Pv__Y",
        "colab": {
          "base_uri": "https://localhost:8080/"
        },
        "outputId": "34c2c3fe-46e7-4b57-e8c1-5e138d6808e0"
      },
      "outputs": [
        {
          "output_type": "execute_result",
          "data": {
            "text/plain": [
              "array([[1.    , 0.5   , 0.3333],\n",
              "       [0.25  , 0.2   , 0.1667]])"
            ]
          },
          "metadata": {},
          "execution_count": 63
        }
      ],
      "source": [
        "1 / arr"
      ]
    },
    {
      "cell_type": "code",
      "source": [
        "arr ** 2"
      ],
      "metadata": {
        "colab": {
          "base_uri": "https://localhost:8080/"
        },
        "id": "7Mu6-EzLd-Sl",
        "outputId": "f2b06531-6d60-4981-a168-d70b2e8335d0"
      },
      "execution_count": null,
      "outputs": [
        {
          "output_type": "execute_result",
          "data": {
            "text/plain": [
              "array([[ 1.,  4.,  9.],\n",
              "       [16., 25., 36.]])"
            ]
          },
          "metadata": {},
          "execution_count": 64
        }
      ]
    },
    {
      "cell_type": "code",
      "execution_count": null,
      "metadata": {
        "id": "oC09zVSFv__Y",
        "colab": {
          "base_uri": "https://localhost:8080/"
        },
        "outputId": "e373675f-9d96-424d-aa48-bbb04cbbea75"
      },
      "outputs": [
        {
          "output_type": "execute_result",
          "data": {
            "text/plain": [
              "array([[ 0.,  4.,  1.],\n",
              "       [ 7.,  2., 12.]])"
            ]
          },
          "metadata": {},
          "execution_count": 65
        }
      ],
      "source": [
        "# 크기가 동일한 배열 간의 비교 연산\n",
        "arr2 = np.array([[0., 4., 1.], [7., 2., 12.]])\n",
        "arr2"
      ]
    },
    {
      "cell_type": "code",
      "source": [
        "print(arr)\n",
        "arr2 > arr"
      ],
      "metadata": {
        "colab": {
          "base_uri": "https://localhost:8080/"
        },
        "id": "KtXo4Arqfcbe",
        "outputId": "5a8c480c-4db7-4212-8b50-35ff9509776e"
      },
      "execution_count": null,
      "outputs": [
        {
          "output_type": "stream",
          "name": "stdout",
          "text": [
            "[[1. 2. 3.]\n",
            " [4. 5. 6.]]\n"
          ]
        },
        {
          "output_type": "execute_result",
          "data": {
            "text/plain": [
              "array([[False,  True, False],\n",
              "       [ True, False,  True]])"
            ]
          },
          "metadata": {},
          "execution_count": 66
        }
      ]
    },
    {
      "cell_type": "markdown",
      "source": [
        "# 인덱싱, 슬라이싱"
      ],
      "metadata": {
        "id": "ib35srnIfzE4"
      }
    },
    {
      "cell_type": "markdown",
      "source": [
        "## 1차원 배열"
      ],
      "metadata": {
        "id": "FJ20QRhKiyCP"
      }
    },
    {
      "cell_type": "code",
      "execution_count": null,
      "metadata": {
        "id": "Km6xhiTYv__Y",
        "colab": {
          "base_uri": "https://localhost:8080/"
        },
        "outputId": "01f41da7-6741-4d48-ae1e-c03f29749dd3"
      },
      "outputs": [
        {
          "output_type": "execute_result",
          "data": {
            "text/plain": [
              "array([0, 1, 2, 3, 4, 5, 6, 7, 8, 9])"
            ]
          },
          "metadata": {},
          "execution_count": 67
        }
      ],
      "source": [
        "# 1차원 배열\n",
        "arr = np.arange(10)\n",
        "arr"
      ]
    },
    {
      "cell_type": "code",
      "source": [
        "arr[5]"
      ],
      "metadata": {
        "colab": {
          "base_uri": "https://localhost:8080/"
        },
        "id": "6hZbaXj3f7Dj",
        "outputId": "e9a1f3e7-aa98-4f61-d723-45b23119e4cb"
      },
      "execution_count": null,
      "outputs": [
        {
          "output_type": "execute_result",
          "data": {
            "text/plain": [
              "5"
            ]
          },
          "metadata": {},
          "execution_count": 68
        }
      ]
    },
    {
      "cell_type": "code",
      "source": [
        "arr[5:8]"
      ],
      "metadata": {
        "colab": {
          "base_uri": "https://localhost:8080/"
        },
        "id": "cUBiZtbsf8l6",
        "outputId": "8e736457-5729-4842-9760-d899b7b846dd"
      },
      "execution_count": null,
      "outputs": [
        {
          "output_type": "execute_result",
          "data": {
            "text/plain": [
              "array([5, 6, 7])"
            ]
          },
          "metadata": {},
          "execution_count": 69
        }
      ]
    },
    {
      "cell_type": "code",
      "source": [
        "arr[5:8] = 12\n",
        "arr\n",
        "# 브로드캐스팅 = 크기가 다른 배열 간의 연산\n",
        "# 12 라는 스칼라 값이 선택 영역 전체로 전파되었다고 해서 브로드캐스팅이라고 표현\n",
        "# 원본 변경"
      ],
      "metadata": {
        "colab": {
          "base_uri": "https://localhost:8080/"
        },
        "id": "HYaUne--gAdj",
        "outputId": "2109e812-1e40-43e5-cc76-a5a1f49b67e2"
      },
      "execution_count": null,
      "outputs": [
        {
          "output_type": "execute_result",
          "data": {
            "text/plain": [
              "array([ 0,  1,  2,  3,  4, 12, 12, 12,  8,  9])"
            ]
          },
          "metadata": {},
          "execution_count": 70
        }
      ]
    },
    {
      "cell_type": "markdown",
      "source": [
        "## 배열 슬라이스 생성"
      ],
      "metadata": {
        "id": "1sXMrRy9i2lo"
      }
    },
    {
      "cell_type": "code",
      "execution_count": null,
      "metadata": {
        "id": "IhXR4HjGv__Y",
        "colab": {
          "base_uri": "https://localhost:8080/"
        },
        "outputId": "d7ce8837-50cb-4b9f-c9e7-ac4c81760d3e"
      },
      "outputs": [
        {
          "output_type": "execute_result",
          "data": {
            "text/plain": [
              "array([12, 12, 12])"
            ]
          },
          "metadata": {},
          "execution_count": 71
        }
      ],
      "source": [
        "# 배열 슬라이스 생성\n",
        "arr_slice = arr[5:8]\n",
        "arr_slice"
      ]
    },
    {
      "cell_type": "code",
      "execution_count": null,
      "metadata": {
        "id": "299Q1Ogrv__Y",
        "colab": {
          "base_uri": "https://localhost:8080/"
        },
        "outputId": "f1bfb0f2-baf4-4286-f46f-f99450319914"
      },
      "outputs": [
        {
          "output_type": "execute_result",
          "data": {
            "text/plain": [
              "array([    0,     1,     2,     3,     4,    12, 12345,    12,     8,\n",
              "           9])"
            ]
          },
          "metadata": {},
          "execution_count": 72
        }
      ],
      "source": [
        "# 원본 변경\n",
        "arr_slice[1] = 12345\n",
        "arr\n",
        "# 원본 배열에서 배열 슬라이스는 5 번 인덱스부터 7 번 인덱스\n",
        "# 배열 슬라이스 = 5 번 인덱스부터 7 번 인덱스에서 1 번 인덱스(= 6 번 인덱스)인 12 가 12345 로 변경"
      ]
    },
    {
      "cell_type": "code",
      "execution_count": null,
      "metadata": {
        "id": "gLaN7jdcv__Y",
        "colab": {
          "base_uri": "https://localhost:8080/"
        },
        "outputId": "24bc9724-f4bc-483f-c46f-57f8e9243cfc"
      },
      "outputs": [
        {
          "output_type": "execute_result",
          "data": {
            "text/plain": [
              "array([ 0,  1,  2,  3,  4, 64, 64, 64,  8,  9])"
            ]
          },
          "metadata": {},
          "execution_count": 73
        }
      ],
      "source": [
        "# 시작 번호와 끝 번호를 생략하면 전체(처음부터 끝까지)\n",
        "arr_slice[:] = 64\n",
        "arr\n",
        "# 배열 슬라이스 = 5 번 인덱스부터 7 번 인덱스에 있는 값이 모두 64 로 변경"
      ]
    },
    {
      "cell_type": "markdown",
      "source": [
        "## 배열 슬라이스를 복사하여 생성"
      ],
      "metadata": {
        "id": "269NGWqCi5bE"
      }
    },
    {
      "cell_type": "code",
      "execution_count": null,
      "metadata": {
        "colab": {
          "base_uri": "https://localhost:8080/"
        },
        "outputId": "f4353f0a-58f3-43d0-cc0d-66de9b2336c1",
        "id": "1Q8WYpH7iYsn"
      },
      "outputs": [
        {
          "output_type": "execute_result",
          "data": {
            "text/plain": [
              "array([64, 64, 64])"
            ]
          },
          "metadata": {},
          "execution_count": 74
        }
      ],
      "source": [
        "# 배열 슬라이스를 복사하여 생성\n",
        "arr_slice = arr[5:8].copy()\n",
        "arr_slice"
      ]
    },
    {
      "cell_type": "code",
      "execution_count": null,
      "metadata": {
        "colab": {
          "base_uri": "https://localhost:8080/"
        },
        "outputId": "b113025e-c02e-486a-aa22-54f711909a2a",
        "id": "gJODRnOliYsu"
      },
      "outputs": [
        {
          "output_type": "execute_result",
          "data": {
            "text/plain": [
              "array([ 0,  1,  2,  3,  4, 64, 64, 64,  8,  9])"
            ]
          },
          "metadata": {},
          "execution_count": 75
        }
      ],
      "source": [
        "# 원본 변경 안됨\n",
        "arr_slice[1] = 12345\n",
        "arr"
      ]
    },
    {
      "cell_type": "code",
      "source": [
        "arr_slice\n",
        "# 복사본에서만 변경이 되었음"
      ],
      "metadata": {
        "colab": {
          "base_uri": "https://localhost:8080/"
        },
        "id": "BlJbtUdXiisE",
        "outputId": "ae83a961-6bd9-497a-bd95-86d67f6e83e5"
      },
      "execution_count": null,
      "outputs": [
        {
          "output_type": "execute_result",
          "data": {
            "text/plain": [
              "array([   64, 12345,    64])"
            ]
          },
          "metadata": {},
          "execution_count": 76
        }
      ]
    },
    {
      "cell_type": "code",
      "execution_count": null,
      "metadata": {
        "colab": {
          "base_uri": "https://localhost:8080/"
        },
        "outputId": "20b22350-5b68-418b-91af-28de202b0e26",
        "id": "QTCmIqYEiYsu"
      },
      "outputs": [
        {
          "output_type": "execute_result",
          "data": {
            "text/plain": [
              "array([ 0,  1,  2,  3,  4, 64, 64, 64,  8,  9])"
            ]
          },
          "metadata": {},
          "execution_count": 77
        }
      ],
      "source": [
        "# 시작 번호와 끝 번호를 생략하면 전체(처음부터 끝까지)\n",
        "arr_slice[:] = 32\n",
        "arr"
      ]
    },
    {
      "cell_type": "code",
      "source": [
        "arr_slice"
      ],
      "metadata": {
        "colab": {
          "base_uri": "https://localhost:8080/"
        },
        "outputId": "7b9f3f02-97ab-4bca-cc79-3db34e4b5304",
        "id": "tjq2an5Qipe_"
      },
      "execution_count": null,
      "outputs": [
        {
          "output_type": "execute_result",
          "data": {
            "text/plain": [
              "array([32, 32, 32])"
            ]
          },
          "metadata": {},
          "execution_count": 78
        }
      ]
    },
    {
      "cell_type": "markdown",
      "source": [
        "## 다차원 배열을 다루는 옵션"
      ],
      "metadata": {
        "id": "eJx29zFNi8aP"
      }
    },
    {
      "cell_type": "code",
      "execution_count": null,
      "metadata": {
        "id": "9ZbpN8qev__Y",
        "colab": {
          "base_uri": "https://localhost:8080/"
        },
        "outputId": "f22abd9a-c0bf-46b7-85c7-195460d42205"
      },
      "outputs": [
        {
          "output_type": "execute_result",
          "data": {
            "text/plain": [
              "array([[1, 2, 3],\n",
              "       [4, 5, 6],\n",
              "       [7, 8, 9]])"
            ]
          },
          "metadata": {},
          "execution_count": 5
        }
      ],
      "source": [
        "# 다차원 배열을 다루는 옵션\n",
        "arr2d = np.array([[1, 2, 3], [4, 5, 6], [7, 8, 9]])\n",
        "arr2d"
      ]
    },
    {
      "cell_type": "code",
      "source": [
        "arr2d[0]"
      ],
      "metadata": {
        "colab": {
          "base_uri": "https://localhost:8080/"
        },
        "id": "MvKGAXhTi3J4",
        "outputId": "c5a8d2cc-1a7f-4e11-a495-1e03618f6478"
      },
      "execution_count": null,
      "outputs": [
        {
          "output_type": "execute_result",
          "data": {
            "text/plain": [
              "array([1, 2, 3])"
            ]
          },
          "metadata": {},
          "execution_count": 6
        }
      ]
    },
    {
      "cell_type": "code",
      "execution_count": null,
      "metadata": {
        "id": "5bNvF0L7v__Y",
        "colab": {
          "base_uri": "https://localhost:8080/"
        },
        "outputId": "3d5e1b54-ef67-44a3-9ac9-9d1e4c1b6d76"
      },
      "outputs": [
        {
          "output_type": "execute_result",
          "data": {
            "text/plain": [
              "3"
            ]
          },
          "metadata": {},
          "execution_count": 80
        }
      ],
      "source": [
        "# 개별 원소에 접근하기 위해서 재귀적으로 접근해야 함, 즉 대괄호 한 번 더 사용\n",
        "arr2d[0][2]"
      ]
    },
    {
      "cell_type": "code",
      "source": [
        "# 대괄호를 한 번 더 쓰는 작업이 번거롭다면 쉼표로 구분된 리스트로도 같은 결과 얻을 수 있음\n",
        "arr2d[0, 2]"
      ],
      "metadata": {
        "colab": {
          "base_uri": "https://localhost:8080/"
        },
        "id": "QNF8sSO2jLte",
        "outputId": "67a78edd-5bec-4b18-8e18-4235370f9bbf"
      },
      "execution_count": null,
      "outputs": [
        {
          "output_type": "execute_result",
          "data": {
            "text/plain": [
              "3"
            ]
          },
          "metadata": {},
          "execution_count": 81
        }
      ]
    },
    {
      "cell_type": "code",
      "execution_count": null,
      "metadata": {
        "id": "le3wQCcrv__Y",
        "colab": {
          "base_uri": "https://localhost:8080/"
        },
        "outputId": "e620dc9d-96a2-4de0-a247-4a5d2edb5f94"
      },
      "outputs": [
        {
          "output_type": "execute_result",
          "data": {
            "text/plain": [
              "array([[[ 1,  2,  3],\n",
              "        [ 4,  5,  6]],\n",
              "\n",
              "       [[ 7,  8,  9],\n",
              "        [10, 11, 12]]])"
            ]
          },
          "metadata": {},
          "execution_count": 82
        }
      ],
      "source": [
        "# 2 * 2 * 3 배열\n",
        "arr3d = np.array([\n",
        "                  [[1, 2, 3], [4, 5, 6]],\n",
        "                  [[7, 8, 9], [10, 11, 12]]\n",
        "                  ])\n",
        "arr3d"
      ]
    },
    {
      "cell_type": "code",
      "source": [
        "arr3d.shape\n",
        "# 2 깊이 2 행 3 열"
      ],
      "metadata": {
        "colab": {
          "base_uri": "https://localhost:8080/"
        },
        "id": "TuvaZTHLkj9_",
        "outputId": "d2d7a2aa-0dd9-457f-8c5c-96748f499401"
      },
      "execution_count": null,
      "outputs": [
        {
          "output_type": "execute_result",
          "data": {
            "text/plain": [
              "(2, 2, 3)"
            ]
          },
          "metadata": {},
          "execution_count": 83
        }
      ]
    },
    {
      "cell_type": "code",
      "execution_count": null,
      "metadata": {
        "id": "7C5PUvQMv__Y",
        "colab": {
          "base_uri": "https://localhost:8080/"
        },
        "outputId": "a91de6f5-ab6d-4d7e-cd96-6e0b4eb83e9f"
      },
      "outputs": [
        {
          "output_type": "execute_result",
          "data": {
            "text/plain": [
              "array([[1, 2, 3],\n",
              "       [4, 5, 6]])"
            ]
          },
          "metadata": {},
          "execution_count": 84
        }
      ],
      "source": [
        "arr3d[0] # 1 번째 깊이"
      ]
    },
    {
      "cell_type": "code",
      "execution_count": null,
      "metadata": {
        "id": "96niFy-Lv__Y",
        "colab": {
          "base_uri": "https://localhost:8080/"
        },
        "outputId": "14966299-5cb4-46ff-d99c-03f30630ea3e"
      },
      "outputs": [
        {
          "output_type": "execute_result",
          "data": {
            "text/plain": [
              "array([[[42, 42, 42],\n",
              "        [42, 42, 42]],\n",
              "\n",
              "       [[ 7,  8,  9],\n",
              "        [10, 11, 12]]])"
            ]
          },
          "metadata": {},
          "execution_count": 85
        }
      ],
      "source": [
        "# 스칼라 값 할당\n",
        "old_values = arr3d[0].copy()\n",
        "arr3d[0] = 42\n",
        "arr3d"
      ]
    },
    {
      "cell_type": "code",
      "source": [
        "# 배열 할당\n",
        "arr3d[0] = old_values\n",
        "arr3d"
      ],
      "metadata": {
        "colab": {
          "base_uri": "https://localhost:8080/"
        },
        "id": "0AR2bht2kEWP",
        "outputId": "9cd8c187-e1ef-4e01-f055-c6d0b0d5629a"
      },
      "execution_count": null,
      "outputs": [
        {
          "output_type": "execute_result",
          "data": {
            "text/plain": [
              "array([[[ 1,  2,  3],\n",
              "        [ 4,  5,  6]],\n",
              "\n",
              "       [[ 7,  8,  9],\n",
              "        [10, 11, 12]]])"
            ]
          },
          "metadata": {},
          "execution_count": 86
        }
      ]
    },
    {
      "cell_type": "code",
      "execution_count": null,
      "metadata": {
        "id": "2gRzwit-v__Y",
        "colab": {
          "base_uri": "https://localhost:8080/"
        },
        "outputId": "673a7875-455b-4ee2-8e2c-e9eb289a5e2d"
      },
      "outputs": [
        {
          "output_type": "execute_result",
          "data": {
            "text/plain": [
              "array([7, 8, 9])"
            ]
          },
          "metadata": {},
          "execution_count": 87
        }
      ],
      "source": [
        "arr3d[1, 0] # 2 번째 깊이 & 1 번째 행\n",
        "# 아래에서 인덱싱 2번한 결과와 동일"
      ]
    },
    {
      "cell_type": "code",
      "execution_count": null,
      "metadata": {
        "id": "W2AzC4CEv__Y",
        "colab": {
          "base_uri": "https://localhost:8080/"
        },
        "outputId": "de88ec07-dfce-4102-b7bd-f0030deeda39"
      },
      "outputs": [
        {
          "output_type": "execute_result",
          "data": {
            "text/plain": [
              "array([[ 7,  8,  9],\n",
              "       [10, 11, 12]])"
            ]
          },
          "metadata": {},
          "execution_count": 88
        }
      ],
      "source": [
        "x = arr3d[1] # 2 번째 깊이\n",
        "x"
      ]
    },
    {
      "cell_type": "code",
      "source": [
        "x[0]"
      ],
      "metadata": {
        "colab": {
          "base_uri": "https://localhost:8080/"
        },
        "id": "IiTf9j-skUuM",
        "outputId": "aba39546-ffab-43e7-ae71-b03195010ae2"
      },
      "execution_count": null,
      "outputs": [
        {
          "output_type": "execute_result",
          "data": {
            "text/plain": [
              "array([7, 8, 9])"
            ]
          },
          "metadata": {},
          "execution_count": 89
        }
      ]
    },
    {
      "cell_type": "markdown",
      "source": [
        "## 슬라이스로 선택"
      ],
      "metadata": {
        "id": "eg30m4xxlG1Q"
      }
    },
    {
      "cell_type": "code",
      "execution_count": null,
      "metadata": {
        "id": "s7rEry8Bv__Z",
        "colab": {
          "base_uri": "https://localhost:8080/"
        },
        "outputId": "7822fb1d-020e-4012-f21e-bc93e05d83dd"
      },
      "outputs": [
        {
          "output_type": "execute_result",
          "data": {
            "text/plain": [
              "array([ 0,  1,  2,  3,  4, 64, 64, 64,  8,  9])"
            ]
          },
          "metadata": {},
          "execution_count": 90
        }
      ],
      "source": [
        "arr"
      ]
    },
    {
      "cell_type": "code",
      "source": [
        "arr[1:6]"
      ],
      "metadata": {
        "colab": {
          "base_uri": "https://localhost:8080/"
        },
        "id": "F_tvDSzplZs-",
        "outputId": "44151480-4e45-46ca-c6c2-180862d854ab"
      },
      "execution_count": null,
      "outputs": [
        {
          "output_type": "execute_result",
          "data": {
            "text/plain": [
              "array([ 1,  2,  3,  4, 64])"
            ]
          },
          "metadata": {},
          "execution_count": 91
        }
      ]
    },
    {
      "cell_type": "code",
      "execution_count": null,
      "metadata": {
        "id": "5xnUXVpnv__Z",
        "colab": {
          "base_uri": "https://localhost:8080/"
        },
        "outputId": "3e53ea6f-b452-4192-b905-23292a1f5664"
      },
      "outputs": [
        {
          "output_type": "execute_result",
          "data": {
            "text/plain": [
              "array([[1, 2, 3],\n",
              "       [4, 5, 6],\n",
              "       [7, 8, 9]])"
            ]
          },
          "metadata": {},
          "execution_count": 92
        }
      ],
      "source": [
        "arr2d"
      ]
    },
    {
      "cell_type": "code",
      "source": [
        "arr2d[:2]\n",
        "# 두 번째 행까지 선택"
      ],
      "metadata": {
        "colab": {
          "base_uri": "https://localhost:8080/"
        },
        "id": "UXNYILJPleKM",
        "outputId": "5370baa3-e1a2-4ebb-eae7-e639d413fc5c"
      },
      "execution_count": null,
      "outputs": [
        {
          "output_type": "execute_result",
          "data": {
            "text/plain": [
              "array([[1, 2, 3],\n",
              "       [4, 5, 6]])"
            ]
          },
          "metadata": {},
          "execution_count": 93
        }
      ]
    },
    {
      "cell_type": "code",
      "execution_count": null,
      "metadata": {
        "id": "ZtZreak6v__Z",
        "colab": {
          "base_uri": "https://localhost:8080/"
        },
        "outputId": "5134ef4b-69f3-4b15-8acc-60c5a963d686"
      },
      "outputs": [
        {
          "output_type": "execute_result",
          "data": {
            "text/plain": [
              "array([[2, 3],\n",
              "       [5, 6]])"
            ]
          },
          "metadata": {},
          "execution_count": 94
        }
      ],
      "source": [
        "arr2d[:2, 1:]\n",
        "# 두 번째 행까지 & 두번째 열부터 끝까지"
      ]
    },
    {
      "cell_type": "code",
      "execution_count": null,
      "metadata": {
        "id": "y6BXRuWyv__Z",
        "colab": {
          "base_uri": "https://localhost:8080/"
        },
        "outputId": "f45463f5-264f-4926-9c01-69a6cf113ed1"
      },
      "outputs": [
        {
          "output_type": "execute_result",
          "data": {
            "text/plain": [
              "array([4, 5])"
            ]
          },
          "metadata": {},
          "execution_count": 95
        }
      ],
      "source": [
        "# 정수 인덱스와 슬라이스를 함께 사용\n",
        "lower_dim_slice = arr2d[1, :2]\n",
        "lower_dim_slice\n",
        "# 두 번째 행 & 두 번째 열까지"
      ]
    },
    {
      "cell_type": "code",
      "execution_count": null,
      "metadata": {
        "id": "DFCUftb7v__Z",
        "colab": {
          "base_uri": "https://localhost:8080/"
        },
        "outputId": "7bf3f8d1-65dc-4a27-df53-618003dfefb3"
      },
      "outputs": [
        {
          "output_type": "execute_result",
          "data": {
            "text/plain": [
              "(2,)"
            ]
          },
          "metadata": {},
          "execution_count": 96
        }
      ],
      "source": [
        "lower_dim_slice.shape\n",
        "# 2차원 배열이 1차원으로\n",
        "# 1 * 2"
      ]
    },
    {
      "cell_type": "code",
      "execution_count": null,
      "metadata": {
        "id": "GKhFTcBwv__Z",
        "colab": {
          "base_uri": "https://localhost:8080/"
        },
        "outputId": "1f263260-89ab-4bca-a0e4-64259f30a68c"
      },
      "outputs": [
        {
          "output_type": "execute_result",
          "data": {
            "text/plain": [
              "array([3, 6])"
            ]
          },
          "metadata": {},
          "execution_count": 97
        }
      ],
      "source": [
        "arr2d[:2, 2]\n",
        "# 두 번째 행까지 & 세 번째 열"
      ]
    },
    {
      "cell_type": "code",
      "execution_count": null,
      "metadata": {
        "id": "awP1KPGvv__Z",
        "colab": {
          "base_uri": "https://localhost:8080/"
        },
        "outputId": "c31a071a-057b-449e-cb31-fcc37da451c7"
      },
      "outputs": [
        {
          "output_type": "execute_result",
          "data": {
            "text/plain": [
              "array([[1],\n",
              "       [4],\n",
              "       [7]])"
            ]
          },
          "metadata": {},
          "execution_count": 98
        }
      ],
      "source": [
        "arr2d[:, :1]\n",
        "# 전체 행 & 첫 번째 열까지\n",
        "# 원래 차원 = 2차원"
      ]
    },
    {
      "cell_type": "code",
      "execution_count": null,
      "metadata": {
        "id": "zZWGPi3Tv__Z",
        "colab": {
          "base_uri": "https://localhost:8080/"
        },
        "outputId": "bca85199-1ac0-45e2-b3db-14fc2fdb221e"
      },
      "outputs": [
        {
          "output_type": "execute_result",
          "data": {
            "text/plain": [
              "array([[1, 0, 0],\n",
              "       [4, 0, 0],\n",
              "       [7, 8, 9]])"
            ]
          },
          "metadata": {},
          "execution_count": 99
        }
      ],
      "source": [
        "arr2d[:2, 1:] = 0\n",
        "arr2d\n",
        "# 두 번째 행까지 & 두 번째 열부터 끝까지 범위 선택하여 값을 할당"
      ]
    },
    {
      "cell_type": "markdown",
      "source": [
        "# 불 값으로 선택"
      ],
      "metadata": {
        "id": "xAL2Zc2QnmJQ"
      }
    },
    {
      "cell_type": "code",
      "execution_count": null,
      "metadata": {
        "id": "rhJIR-lXv__a",
        "colab": {
          "base_uri": "https://localhost:8080/"
        },
        "outputId": "89a68582-490b-44aa-8aed-503f4a11ec35"
      },
      "outputs": [
        {
          "output_type": "execute_result",
          "data": {
            "text/plain": [
              "array(['Bob', 'Joe', 'Will', 'Bob', 'Will', 'Joe', 'Joe'], dtype='<U4')"
            ]
          },
          "metadata": {},
          "execution_count": 100
        }
      ],
      "source": [
        "# 불 인덱스\n",
        "names = np.array([\"Bob\", \"Joe\", \"Will\", \"Bob\", \"Will\", \"Joe\", \"Joe\"])\n",
        "names\n",
        "# 축의 길이가 7개"
      ]
    },
    {
      "cell_type": "code",
      "source": [
        "data = np.array([[4, 7],\n",
        "                 [0, 2],\n",
        "                 [-5, 6],\n",
        "                 [0, 0],\n",
        "                 [1, 2],\n",
        "                 [-12, -4],\n",
        "                 [3, 4]])\n",
        "data\n",
        "# 축의 길이가 7개"
      ],
      "metadata": {
        "colab": {
          "base_uri": "https://localhost:8080/"
        },
        "id": "4zQ2br4RobZZ",
        "outputId": "83e2ec3a-afa6-45dd-dacd-800d9dd82da2"
      },
      "execution_count": null,
      "outputs": [
        {
          "output_type": "execute_result",
          "data": {
            "text/plain": [
              "array([[  4,   7],\n",
              "       [  0,   2],\n",
              "       [ -5,   6],\n",
              "       [  0,   0],\n",
              "       [  1,   2],\n",
              "       [-12,  -4],\n",
              "       [  3,   4]])"
            ]
          },
          "metadata": {},
          "execution_count": 101
        }
      ]
    },
    {
      "cell_type": "code",
      "execution_count": null,
      "metadata": {
        "id": "G8hhO90Wv__a",
        "colab": {
          "base_uri": "https://localhost:8080/"
        },
        "outputId": "8f9be499-3f16-497f-8115-a538a04a1736"
      },
      "outputs": [
        {
          "output_type": "execute_result",
          "data": {
            "text/plain": [
              "array([ True, False, False,  True, False, False, False])"
            ]
          },
          "metadata": {},
          "execution_count": 102
        }
      ],
      "source": [
        "names == \"Bob\""
      ]
    },
    {
      "cell_type": "code",
      "execution_count": null,
      "metadata": {
        "id": "qtbS9iVPv__a",
        "colab": {
          "base_uri": "https://localhost:8080/"
        },
        "outputId": "9050c5cf-00ef-4ff7-efc4-7bbf50abef76"
      },
      "outputs": [
        {
          "output_type": "execute_result",
          "data": {
            "text/plain": [
              "array([[4, 7],\n",
              "       [0, 0]])"
            ]
          },
          "metadata": {},
          "execution_count": 103
        }
      ],
      "source": [
        "data[names == \"Bob\"]\n",
        "# 불 배열은 반드시 인덱싱하는 축의 길이가 동일해야 함\n",
        "# True 에 해당하는 축이 선택"
      ]
    },
    {
      "cell_type": "code",
      "execution_count": null,
      "metadata": {
        "id": "pgLkMbgYv__a",
        "colab": {
          "base_uri": "https://localhost:8080/"
        },
        "outputId": "863bd735-f389-4446-9db7-cf6a466912a8"
      },
      "outputs": [
        {
          "output_type": "execute_result",
          "data": {
            "text/plain": [
              "array([[7],\n",
              "       [0]])"
            ]
          },
          "metadata": {},
          "execution_count": 104
        }
      ],
      "source": [
        "data[names == \"Bob\", 1:]\n",
        "# 열도 함께 선택 = 두 번째 열\n",
        "# 2차원"
      ]
    },
    {
      "cell_type": "code",
      "source": [
        "data[names == \"Bob\", 1]\n",
        "# 열도 함께 선택 = 두 번째 열\n",
        "# 1차원"
      ],
      "metadata": {
        "colab": {
          "base_uri": "https://localhost:8080/"
        },
        "id": "beuwskIOL1HO",
        "outputId": "5ae6590d-3110-42bb-df47-9d144d720fbf"
      },
      "execution_count": null,
      "outputs": [
        {
          "output_type": "execute_result",
          "data": {
            "text/plain": [
              "array([7, 0])"
            ]
          },
          "metadata": {},
          "execution_count": 105
        }
      ]
    },
    {
      "cell_type": "code",
      "execution_count": null,
      "metadata": {
        "id": "CWQr9ALVv__a",
        "colab": {
          "base_uri": "https://localhost:8080/"
        },
        "outputId": "e7645b5e-ad68-430a-c0ae-b976736c92e4"
      },
      "outputs": [
        {
          "output_type": "execute_result",
          "data": {
            "text/plain": [
              "array([False,  True,  True, False,  True,  True,  True])"
            ]
          },
          "metadata": {},
          "execution_count": 106
        }
      ],
      "source": [
        "names != \"Bob\"\n",
        "# 부정의 의미 = 같지 않다\n",
        "# 같지 않으면 참"
      ]
    },
    {
      "cell_type": "code",
      "source": [
        "~(names == \"Bob\")\n",
        "# 부정의 의미 = 같지 않다\n",
        "# 같지 않으면 참"
      ],
      "metadata": {
        "colab": {
          "base_uri": "https://localhost:8080/"
        },
        "id": "jkzNuBhzMGTG",
        "outputId": "e15a6cfd-74b2-482c-b07d-da19e012c149"
      },
      "execution_count": null,
      "outputs": [
        {
          "output_type": "execute_result",
          "data": {
            "text/plain": [
              "array([False,  True,  True, False,  True,  True,  True])"
            ]
          },
          "metadata": {},
          "execution_count": 107
        }
      ]
    },
    {
      "cell_type": "code",
      "source": [
        "data[~(names == \"Bob\")]\n",
        "# 부정의 의미로 인덱싱\n",
        "# True 에 해당하는 축이 선택"
      ],
      "metadata": {
        "colab": {
          "base_uri": "https://localhost:8080/"
        },
        "id": "DgiUCV_JMRRf",
        "outputId": "d6ccd3cb-fca0-4eb3-8616-e3ea68b68b34"
      },
      "execution_count": null,
      "outputs": [
        {
          "output_type": "execute_result",
          "data": {
            "text/plain": [
              "array([[  0,   2],\n",
              "       [ -5,   6],\n",
              "       [  1,   2],\n",
              "       [-12,  -4],\n",
              "       [  3,   4]])"
            ]
          },
          "metadata": {},
          "execution_count": 108
        }
      ]
    },
    {
      "cell_type": "code",
      "execution_count": null,
      "metadata": {
        "id": "rT9Sgo12v__a",
        "colab": {
          "base_uri": "https://localhost:8080/"
        },
        "outputId": "bb09bca2-0c5e-4069-c0f6-be56b68383cc"
      },
      "outputs": [
        {
          "output_type": "execute_result",
          "data": {
            "text/plain": [
              "array([ True, False, False,  True, False, False, False])"
            ]
          },
          "metadata": {},
          "execution_count": 109
        }
      ],
      "source": [
        "cond = names == \"Bob\"\n",
        "cond\n",
        "# 불 인덱스를 저장"
      ]
    },
    {
      "cell_type": "code",
      "source": [
        "data[~cond]\n",
        "# 부정의 의미로 인덱싱\n",
        "# 참 거짓이 반대로 바뀌어 인덱싱"
      ],
      "metadata": {
        "colab": {
          "base_uri": "https://localhost:8080/"
        },
        "id": "YJH9jofwMyBk",
        "outputId": "cbde7f0f-00d8-400a-d0b4-7226ddf8029e"
      },
      "execution_count": null,
      "outputs": [
        {
          "output_type": "execute_result",
          "data": {
            "text/plain": [
              "array([[  0,   2],\n",
              "       [ -5,   6],\n",
              "       [  1,   2],\n",
              "       [-12,  -4],\n",
              "       [  3,   4]])"
            ]
          },
          "metadata": {},
          "execution_count": 110
        }
      ]
    },
    {
      "cell_type": "code",
      "execution_count": null,
      "metadata": {
        "id": "U2XBJ7XBv__a",
        "colab": {
          "base_uri": "https://localhost:8080/"
        },
        "outputId": "cd497299-8220-4304-e0fc-40c43bfdbcdc"
      },
      "outputs": [
        {
          "output_type": "execute_result",
          "data": {
            "text/plain": [
              "array([ True, False,  True,  True,  True, False, False])"
            ]
          },
          "metadata": {},
          "execution_count": 111
        }
      ],
      "source": [
        "# And (&) OR (|)\n",
        "mask = (names == \"Bob\") | (names == \"Will\")\n",
        "mask\n",
        "# OR = 둘 중 하나만 만족해도 참, 둘 다 만족해도 참\n",
        "# = 이름 2개 선택"
      ]
    },
    {
      "cell_type": "code",
      "source": [
        "data[mask]\n",
        "# OR 인덱싱"
      ],
      "metadata": {
        "colab": {
          "base_uri": "https://localhost:8080/"
        },
        "id": "LenMyUwQQkmi",
        "outputId": "2d2b10f7-f76b-4d48-f046-9ed870c09b3d"
      },
      "execution_count": null,
      "outputs": [
        {
          "output_type": "execute_result",
          "data": {
            "text/plain": [
              "array([[ 4,  7],\n",
              "       [-5,  6],\n",
              "       [ 0,  0],\n",
              "       [ 1,  2]])"
            ]
          },
          "metadata": {},
          "execution_count": 112
        }
      ]
    },
    {
      "cell_type": "code",
      "source": [
        "# [  4,   7],\n",
        "# [  0,   2],\n",
        "# [ -5,   6],\n",
        "# [  0,   0],\n",
        "# [  1,   2],\n",
        "# [-12,  -4],\n",
        "# [  3,   4]"
      ],
      "metadata": {
        "id": "oRjMOsZPAtVl"
      },
      "execution_count": null,
      "outputs": []
    },
    {
      "cell_type": "code",
      "execution_count": null,
      "metadata": {
        "id": "APPc6q_3v__a",
        "colab": {
          "base_uri": "https://localhost:8080/"
        },
        "outputId": "def2c4fa-e80d-4138-b701-04f3fd526f83"
      },
      "outputs": [
        {
          "output_type": "execute_result",
          "data": {
            "text/plain": [
              "array([[4, 7],\n",
              "       [0, 2],\n",
              "       [0, 6],\n",
              "       [0, 0],\n",
              "       [1, 2],\n",
              "       [0, 0],\n",
              "       [3, 4]])"
            ]
          },
          "metadata": {},
          "execution_count": 113
        }
      ],
      "source": [
        "# 비교 연산자\n",
        "data[data < 0] = 0\n",
        "data\n",
        "# data 에 저장된 음수를 0 으로 변경"
      ]
    },
    {
      "cell_type": "code",
      "source": [
        "# [4, 7],\n",
        "# [0, 2],\n",
        "# [0, 6],\n",
        "# [0, 0],\n",
        "# [1, 2],\n",
        "# [0, 0],\n",
        "# [3, 4]"
      ],
      "metadata": {
        "id": "kROM_7GSBPVw"
      },
      "execution_count": null,
      "outputs": []
    },
    {
      "cell_type": "code",
      "source": [
        "names != \"Joe\""
      ],
      "metadata": {
        "colab": {
          "base_uri": "https://localhost:8080/"
        },
        "id": "NZon3VSgAnQ6",
        "outputId": "54b961db-59f1-49b3-878f-b627f7e57fc9"
      },
      "execution_count": null,
      "outputs": [
        {
          "output_type": "execute_result",
          "data": {
            "text/plain": [
              "array([ True, False,  True,  True,  True, False, False])"
            ]
          },
          "metadata": {},
          "execution_count": 115
        }
      ]
    },
    {
      "cell_type": "code",
      "execution_count": null,
      "metadata": {
        "id": "uvW2JDxNv__a",
        "colab": {
          "base_uri": "https://localhost:8080/"
        },
        "outputId": "d120fd40-602b-405b-e944-306d59dba015"
      },
      "outputs": [
        {
          "output_type": "execute_result",
          "data": {
            "text/plain": [
              "array([[7, 7],\n",
              "       [0, 2],\n",
              "       [7, 7],\n",
              "       [7, 7],\n",
              "       [7, 7],\n",
              "       [0, 0],\n",
              "       [3, 4]])"
            ]
          },
          "metadata": {},
          "execution_count": 114
        }
      ],
      "source": [
        "data[names != \"Joe\"] = 7\n",
        "data\n",
        "# 이름이 Joe 가 아닌 경우 7 로 변경"
      ]
    },
    {
      "cell_type": "markdown",
      "source": [
        "# 팬시 인덱싱"
      ],
      "metadata": {
        "id": "eaHdfjm_SLAr"
      }
    },
    {
      "cell_type": "code",
      "execution_count": null,
      "metadata": {
        "id": "lAGJvYN2v__a",
        "colab": {
          "base_uri": "https://localhost:8080/"
        },
        "outputId": "d4d67d28-3def-452f-a9bc-73c2094067f4"
      },
      "outputs": [
        {
          "output_type": "execute_result",
          "data": {
            "text/plain": [
              "array([[0., 0., 0., 0.],\n",
              "       [0., 0., 0., 0.],\n",
              "       [0., 0., 0., 0.],\n",
              "       [0., 0., 0., 0.],\n",
              "       [0., 0., 0., 0.],\n",
              "       [0., 0., 0., 0.],\n",
              "       [0., 0., 0., 0.],\n",
              "       [0., 0., 0., 0.]])"
            ]
          },
          "metadata": {},
          "execution_count": 116
        }
      ],
      "source": [
        "# 정수 배열을 사용한 인덱싱\n",
        "arr = np.zeros((8, 4))\n",
        "arr"
      ]
    },
    {
      "cell_type": "code",
      "source": [
        "for i in range(8):\n",
        "    arr[i] = i\n",
        "arr\n",
        "# 1 ~ 7 정수 순서대로 행의 하위집합을 선택하여 할당"
      ],
      "metadata": {
        "colab": {
          "base_uri": "https://localhost:8080/"
        },
        "id": "iqIb1crfSVxv",
        "outputId": "6b97de6b-9c12-4d14-9956-bc89b8ecf6d4"
      },
      "execution_count": null,
      "outputs": [
        {
          "output_type": "execute_result",
          "data": {
            "text/plain": [
              "array([[0., 0., 0., 0.],\n",
              "       [1., 1., 1., 1.],\n",
              "       [2., 2., 2., 2.],\n",
              "       [3., 3., 3., 3.],\n",
              "       [4., 4., 4., 4.],\n",
              "       [5., 5., 5., 5.],\n",
              "       [6., 6., 6., 6.],\n",
              "       [7., 7., 7., 7.]])"
            ]
          },
          "metadata": {},
          "execution_count": 117
        }
      ]
    },
    {
      "cell_type": "code",
      "execution_count": null,
      "metadata": {
        "id": "by6mEInhv__a",
        "colab": {
          "base_uri": "https://localhost:8080/"
        },
        "outputId": "a4d0baa2-35e1-4ae3-8905-016d88732da2"
      },
      "outputs": [
        {
          "output_type": "execute_result",
          "data": {
            "text/plain": [
              "array([[4., 4., 4., 4.],\n",
              "       [3., 3., 3., 3.],\n",
              "       [0., 0., 0., 0.],\n",
              "       [6., 6., 6., 6.]])"
            ]
          },
          "metadata": {},
          "execution_count": 118
        }
      ],
      "source": [
        "arr[[4, 3, 0, 6]]\n",
        "# 정수로 특정 행을 선택하여 인덱싱 = 팬시 색인"
      ]
    },
    {
      "cell_type": "code",
      "execution_count": null,
      "metadata": {
        "id": "WJF9_t_4v__a",
        "colab": {
          "base_uri": "https://localhost:8080/"
        },
        "outputId": "50c1260b-1b0e-4bf1-e916-419d5a43494f"
      },
      "outputs": [
        {
          "output_type": "execute_result",
          "data": {
            "text/plain": [
              "array([[5., 5., 5., 5.],\n",
              "       [3., 3., 3., 3.],\n",
              "       [1., 1., 1., 1.]])"
            ]
          },
          "metadata": {},
          "execution_count": 119
        }
      ],
      "source": [
        "arr[[-3, -5, -7]]\n",
        "# 음수로 인덱싱하면 반대로 작동 = 팬시 색인\n",
        "# -8 ~ -1\n",
        "# 6 번째 행, 4 번째 행, 2 번째 행"
      ]
    },
    {
      "cell_type": "code",
      "execution_count": null,
      "metadata": {
        "id": "XgrsJeatv__a",
        "colab": {
          "base_uri": "https://localhost:8080/"
        },
        "outputId": "929287d8-a5ce-43af-e471-04430241e8ee"
      },
      "outputs": [
        {
          "output_type": "execute_result",
          "data": {
            "text/plain": [
              "array([[ 0,  1,  2,  3],\n",
              "       [ 4,  5,  6,  7],\n",
              "       [ 8,  9, 10, 11],\n",
              "       [12, 13, 14, 15],\n",
              "       [16, 17, 18, 19],\n",
              "       [20, 21, 22, 23],\n",
              "       [24, 25, 26, 27],\n",
              "       [28, 29, 30, 31]])"
            ]
          },
          "metadata": {},
          "execution_count": 120
        }
      ],
      "source": [
        "arr = np.arange(32).reshape((8, 4))\n",
        "arr\n",
        "# 0 ~ 31 정수를 가진 8 행 * 4 열을 배열로 재구성"
      ]
    },
    {
      "cell_type": "code",
      "source": [
        "arr[[1, 5, 7, 2], [0, 3, 1, 2]]\n",
        "# 각 위치에 대응하는 1차원 배열이 선택\n",
        "# 2 번째 행 & 1 번째 열\n",
        "# 6 번째 행 & 4 번째 열\n",
        "# 8 번째 행 & 2 번째 열\n",
        "# 3 번째 행 & 3 번째 열"
      ],
      "metadata": {
        "colab": {
          "base_uri": "https://localhost:8080/"
        },
        "id": "ehr_W0Tf4sLy",
        "outputId": "8f27bae3-ea45-4b2c-b0a8-0c796b231d62"
      },
      "execution_count": null,
      "outputs": [
        {
          "output_type": "execute_result",
          "data": {
            "text/plain": [
              "array([ 4, 23, 29, 10])"
            ]
          },
          "metadata": {},
          "execution_count": 121
        }
      ]
    },
    {
      "cell_type": "code",
      "execution_count": null,
      "metadata": {
        "id": "pZ7tNlugv__b",
        "colab": {
          "base_uri": "https://localhost:8080/"
        },
        "outputId": "80e2851c-98ea-47bd-a936-dc445c41a5a2"
      },
      "outputs": [
        {
          "output_type": "execute_result",
          "data": {
            "text/plain": [
              "array([[ 4,  7,  5,  6],\n",
              "       [20, 23, 21, 22],\n",
              "       [28, 31, 29, 30],\n",
              "       [ 8, 11,  9, 10]])"
            ]
          },
          "metadata": {},
          "execution_count": 122
        }
      ],
      "source": [
        "arr[[1, 5, 7, 2]][:, [0, 3, 1, 2]]\n",
        "# 2 번째, 6 번째, 8 번째, 3 번째 행을 선택\n",
        "# 열 순서를 0, 3, 1, 2 열로 바꿔 2차원 배열이 선택"
      ]
    },
    {
      "cell_type": "code",
      "execution_count": null,
      "metadata": {
        "id": "7Ljhzxyav__b",
        "colab": {
          "base_uri": "https://localhost:8080/"
        },
        "outputId": "fa3475d7-59a8-485f-8cc8-a9f834f3e1e7"
      },
      "outputs": [
        {
          "output_type": "execute_result",
          "data": {
            "text/plain": [
              "array([[ 0,  1,  2,  3],\n",
              "       [ 0,  5,  6,  7],\n",
              "       [ 8,  9,  0, 11],\n",
              "       [12, 13, 14, 15],\n",
              "       [16, 17, 18, 19],\n",
              "       [20, 21, 22,  0],\n",
              "       [24, 25, 26, 27],\n",
              "       [28,  0, 30, 31]])"
            ]
          },
          "metadata": {},
          "execution_count": 123
        }
      ],
      "source": [
        "arr[[1, 5, 7, 2], [0, 3, 1, 2]]\n",
        "arr[[1, 5, 7, 2], [0, 3, 1, 2]] = 0\n",
        "arr\n",
        "# 각 위치에 대응하는 1차원 배열이 선택\n",
        "# 2 번째 행 & 1 번째 열\n",
        "# 6 번째 행 & 4 번째 열\n",
        "# 8 번째 행 & 2 번째 열\n",
        "# 3 번째 행 & 3 번째 열에 해당하는 값을 0 으로 할당"
      ]
    },
    {
      "cell_type": "markdown",
      "source": [
        "# 배열 재구성"
      ],
      "metadata": {
        "id": "her5nCo17cfx"
      }
    },
    {
      "cell_type": "code",
      "execution_count": null,
      "metadata": {
        "id": "RZXCqvtU7zkq",
        "colab": {
          "base_uri": "https://localhost:8080/"
        },
        "outputId": "323d8cfb-bdce-43ca-e296-0fa1a77ce36c"
      },
      "outputs": [
        {
          "output_type": "execute_result",
          "data": {
            "text/plain": [
              "array([0, 1, 2, 3, 4, 5, 6, 7])"
            ]
          },
          "metadata": {},
          "execution_count": 14
        }
      ],
      "source": [
        "arr = np.arange(8)\n",
        "arr"
      ]
    },
    {
      "cell_type": "code",
      "source": [
        "arr.reshape((4, 2))\n",
        "# 4 * 2 형태의 배열로 재구성"
      ],
      "metadata": {
        "colab": {
          "base_uri": "https://localhost:8080/"
        },
        "id": "oS-e8Re__g-i",
        "outputId": "dc229d03-6e80-4b15-ea37-4bef703027a6"
      },
      "execution_count": null,
      "outputs": [
        {
          "output_type": "execute_result",
          "data": {
            "text/plain": [
              "array([[0, 1],\n",
              "       [2, 3],\n",
              "       [4, 5],\n",
              "       [6, 7]])"
            ]
          },
          "metadata": {},
          "execution_count": 15
        }
      ]
    },
    {
      "cell_type": "code",
      "source": [
        "arr\n",
        "# 원본 변경이 안된 것을 보아 복사본 반환하는 것을 알 수 있음"
      ],
      "metadata": {
        "colab": {
          "base_uri": "https://localhost:8080/"
        },
        "id": "Ac85c6ws_yUr",
        "outputId": "0024a063-4ce2-42d1-dc16-a21a2b8e8d3b"
      },
      "execution_count": null,
      "outputs": [
        {
          "output_type": "execute_result",
          "data": {
            "text/plain": [
              "array([0, 1, 2, 3, 4, 5, 6, 7])"
            ]
          },
          "metadata": {},
          "execution_count": 16
        }
      ]
    },
    {
      "cell_type": "code",
      "source": [
        "arr.reshape((4, 2), order = 'C')\n",
        "# 행 우선 정렬 = 기본값"
      ],
      "metadata": {
        "colab": {
          "base_uri": "https://localhost:8080/"
        },
        "id": "P-qk2Ln9AEOU",
        "outputId": "285fe36f-c64e-48c6-df72-c7744e022d41"
      },
      "execution_count": null,
      "outputs": [
        {
          "output_type": "execute_result",
          "data": {
            "text/plain": [
              "array([[0, 1],\n",
              "       [2, 3],\n",
              "       [4, 5],\n",
              "       [6, 7]])"
            ]
          },
          "metadata": {},
          "execution_count": 127
        }
      ]
    },
    {
      "cell_type": "code",
      "source": [
        "arr.reshape((4, 2), order = 'F')\n",
        "# 열 우선 정렬"
      ],
      "metadata": {
        "colab": {
          "base_uri": "https://localhost:8080/"
        },
        "id": "KMZ1q0bjAL7M",
        "outputId": "89956c9a-9fdb-4440-c6ad-5d2675fd1b8d"
      },
      "execution_count": null,
      "outputs": [
        {
          "output_type": "execute_result",
          "data": {
            "text/plain": [
              "array([[0, 4],\n",
              "       [1, 5],\n",
              "       [2, 6],\n",
              "       [3, 7]])"
            ]
          },
          "metadata": {},
          "execution_count": 128
        }
      ]
    },
    {
      "cell_type": "code",
      "execution_count": null,
      "metadata": {
        "id": "iSaMmrWd7zkq",
        "colab": {
          "base_uri": "https://localhost:8080/"
        },
        "outputId": "f5456290-dde9-43e7-e68d-413fee1f5918"
      },
      "outputs": [
        {
          "output_type": "execute_result",
          "data": {
            "text/plain": [
              "array([[0, 1, 2, 3],\n",
              "       [4, 5, 6, 7]])"
            ]
          },
          "metadata": {},
          "execution_count": 129
        }
      ],
      "source": [
        "arr.reshape((4, 2)).reshape((2, 4))\n",
        "# 다차원 배열 재구성"
      ]
    },
    {
      "cell_type": "code",
      "execution_count": null,
      "metadata": {
        "id": "aPR1jWFx7zkq",
        "colab": {
          "base_uri": "https://localhost:8080/"
        },
        "outputId": "2db1b48f-1bc0-47a5-a8d9-a44c1d30a9c6"
      },
      "outputs": [
        {
          "output_type": "execute_result",
          "data": {
            "text/plain": [
              "array([[ 0,  1,  2],\n",
              "       [ 3,  4,  5],\n",
              "       [ 6,  7,  8],\n",
              "       [ 9, 10, 11],\n",
              "       [12, 13, 14]])"
            ]
          },
          "metadata": {},
          "execution_count": 130
        }
      ],
      "source": [
        "arr = np.arange(15)\n",
        "arr.reshape((5, -1))\n",
        "# -1 를 사용하면 원본 데이터를 참조하여 적절한 값을 추론 = 여기서는 3"
      ]
    },
    {
      "cell_type": "code",
      "execution_count": null,
      "metadata": {
        "id": "SruCseJA7zkr",
        "colab": {
          "base_uri": "https://localhost:8080/"
        },
        "outputId": "c4b7da4b-3714-4bee-ecda-5ed1722db5eb"
      },
      "outputs": [
        {
          "output_type": "execute_result",
          "data": {
            "text/plain": [
              "(3, 5)"
            ]
          },
          "metadata": {},
          "execution_count": 131
        }
      ],
      "source": [
        "other_arr = np.ones((3, 5))\n",
        "other_arr.shape\n",
        "# 배열의 차원"
      ]
    },
    {
      "cell_type": "code",
      "source": [
        "arr.reshape(other_arr.shape)\n",
        "# 다른 배열의 차원을 바로 입력 가능"
      ],
      "metadata": {
        "colab": {
          "base_uri": "https://localhost:8080/"
        },
        "id": "GdUN64epBKY2",
        "outputId": "6bb7053e-d817-440f-c726-58ef2fafe9de"
      },
      "execution_count": null,
      "outputs": [
        {
          "output_type": "execute_result",
          "data": {
            "text/plain": [
              "array([[ 0,  1,  2,  3,  4],\n",
              "       [ 5,  6,  7,  8,  9],\n",
              "       [10, 11, 12, 13, 14]])"
            ]
          },
          "metadata": {},
          "execution_count": 132
        }
      ]
    },
    {
      "cell_type": "code",
      "execution_count": null,
      "metadata": {
        "id": "8nlYNX0A7zkr",
        "colab": {
          "base_uri": "https://localhost:8080/"
        },
        "outputId": "18114bb4-55a4-4d1c-fca4-134eebd017b8"
      },
      "outputs": [
        {
          "output_type": "execute_result",
          "data": {
            "text/plain": [
              "array([[ 0,  1,  2],\n",
              "       [ 3,  4,  5],\n",
              "       [ 6,  7,  8],\n",
              "       [ 9, 10, 11],\n",
              "       [12, 13, 14]])"
            ]
          },
          "metadata": {},
          "execution_count": 74
        }
      ],
      "source": [
        "arr = np.arange(15).reshape((5, 3))\n",
        "arr"
      ]
    },
    {
      "cell_type": "code",
      "source": [
        "arr.ravel()\n",
        "# 평탄화 = 다차원 배열을 낮은 차원으로 변환"
      ],
      "metadata": {
        "colab": {
          "base_uri": "https://localhost:8080/"
        },
        "id": "PogzDzyDBb8p",
        "outputId": "526b25c7-6da0-41c2-f6ce-1bb06c94ae72"
      },
      "execution_count": null,
      "outputs": [
        {
          "output_type": "execute_result",
          "data": {
            "text/plain": [
              "array([ 0,  1,  2,  3,  4,  5,  6,  7,  8,  9, 10, 11, 12, 13, 14])"
            ]
          },
          "metadata": {},
          "execution_count": 75
        }
      ]
    },
    {
      "cell_type": "code",
      "source": [
        "arr = np.arange(15).reshape((5, 3))\n",
        "print(arr)\n",
        "arr_after = arr.ravel()\n",
        "arr_after[0] = 33\n",
        "print(arr)\n",
        "print(arr_after)\n",
        "# 복사본 생성 안함 = 원본 변경"
      ],
      "metadata": {
        "colab": {
          "base_uri": "https://localhost:8080/"
        },
        "id": "uYcRn7eeFdSd",
        "outputId": "ec68c3ce-02c4-499b-f084-94773e1d32db"
      },
      "execution_count": null,
      "outputs": [
        {
          "output_type": "stream",
          "name": "stdout",
          "text": [
            "[[ 0  1  2]\n",
            " [ 3  4  5]\n",
            " [ 6  7  8]\n",
            " [ 9 10 11]\n",
            " [12 13 14]]\n",
            "[[33  1  2]\n",
            " [ 3  4  5]\n",
            " [ 6  7  8]\n",
            " [ 9 10 11]\n",
            " [12 13 14]]\n",
            "[33  1  2  3  4  5  6  7  8  9 10 11 12 13 14]\n"
          ]
        }
      ]
    },
    {
      "cell_type": "code",
      "execution_count": null,
      "metadata": {
        "colab": {
          "base_uri": "https://localhost:8080/"
        },
        "outputId": "cc40f2f4-35cb-4c87-bd02-6fb4f0acecda",
        "id": "7_NjtmWF88Zh"
      },
      "outputs": [
        {
          "output_type": "execute_result",
          "data": {
            "text/plain": [
              "array([[ 0,  1,  2],\n",
              "       [ 3,  4,  5],\n",
              "       [ 6,  7,  8],\n",
              "       [ 9, 10, 11],\n",
              "       [12, 13, 14]])"
            ]
          },
          "metadata": {},
          "execution_count": 85
        }
      ],
      "source": [
        "arr = np.arange(15).reshape((5, 3))\n",
        "arr"
      ]
    },
    {
      "cell_type": "code",
      "execution_count": null,
      "metadata": {
        "id": "JlMh78wt7zkr",
        "colab": {
          "base_uri": "https://localhost:8080/"
        },
        "outputId": "6b7c4b59-90cb-470d-a4d2-292dbfcd598f"
      },
      "outputs": [
        {
          "output_type": "execute_result",
          "data": {
            "text/plain": [
              "array([ 0,  1,  2,  3,  4,  5,  6,  7,  8,  9, 10, 11, 12, 13, 14])"
            ]
          },
          "metadata": {},
          "execution_count": 86
        }
      ],
      "source": [
        "arr.flatten()\n",
        "# 평탄화 = 다차원 배열을 낮은 차원으로 변환"
      ]
    },
    {
      "cell_type": "code",
      "source": [
        "arr = np.arange(15).reshape((5, 3))\n",
        "print(arr)\n",
        "arr_after = arr.flatten()\n",
        "arr_after[0] = 33\n",
        "print(arr)\n",
        "print(arr_after)\n",
        "# 복사본 반환 = 복사본 생성하여 변경"
      ],
      "metadata": {
        "colab": {
          "base_uri": "https://localhost:8080/"
        },
        "id": "T6hjfqpdFvWb",
        "outputId": "b14ba3d7-b967-4df3-f3ee-6ea0233daa41"
      },
      "execution_count": null,
      "outputs": [
        {
          "output_type": "stream",
          "name": "stdout",
          "text": [
            "[[ 0  1  2]\n",
            " [ 3  4  5]\n",
            " [ 6  7  8]\n",
            " [ 9 10 11]\n",
            " [12 13 14]]\n",
            "[[ 0  1  2]\n",
            " [ 3  4  5]\n",
            " [ 6  7  8]\n",
            " [ 9 10 11]\n",
            " [12 13 14]]\n",
            "[33  1  2  3  4  5  6  7  8  9 10 11 12 13 14]\n"
          ]
        }
      ]
    },
    {
      "cell_type": "code",
      "execution_count": null,
      "metadata": {
        "colab": {
          "base_uri": "https://localhost:8080/"
        },
        "outputId": "9e93429f-e332-42c8-a36b-ff5849f3f5be",
        "id": "TkBYhTNy94Bk"
      },
      "outputs": [
        {
          "output_type": "execute_result",
          "data": {
            "text/plain": [
              "array([[ 0,  1,  2],\n",
              "       [ 3,  4,  5],\n",
              "       [ 6,  7,  8],\n",
              "       [ 9, 10, 11],\n",
              "       [12, 13, 14]])"
            ]
          },
          "metadata": {},
          "execution_count": 88
        }
      ],
      "source": [
        "arr = np.arange(15).reshape((5, 3))\n",
        "arr"
      ]
    },
    {
      "cell_type": "code",
      "source": [
        "arr.reshape((-1))\n",
        "# 다차원 배열을 1차원 배열로 재구성"
      ],
      "metadata": {
        "colab": {
          "base_uri": "https://localhost:8080/"
        },
        "id": "DYSkPY2xAotz",
        "outputId": "c2a1b0a6-ad1f-4455-cdfa-40c2b9e80007"
      },
      "execution_count": null,
      "outputs": [
        {
          "output_type": "execute_result",
          "data": {
            "text/plain": [
              "array([ 0,  1,  2,  3,  4,  5,  6,  7,  8,  9, 10, 11, 12, 13, 14])"
            ]
          },
          "metadata": {},
          "execution_count": 89
        }
      ]
    },
    {
      "cell_type": "code",
      "execution_count": null,
      "metadata": {
        "id": "VI8us4zd7zkr",
        "colab": {
          "base_uri": "https://localhost:8080/"
        },
        "outputId": "975a6eb1-f62b-4288-de50-347793318bd3"
      },
      "outputs": [
        {
          "output_type": "execute_result",
          "data": {
            "text/plain": [
              "array([[ 0,  1,  2,  3],\n",
              "       [ 4,  5,  6,  7],\n",
              "       [ 8,  9, 10, 11]])"
            ]
          },
          "metadata": {},
          "execution_count": 91
        }
      ],
      "source": [
        "arr = np.arange(12).reshape((3, 4))\n",
        "arr"
      ]
    },
    {
      "cell_type": "code",
      "source": [
        "arr.ravel('C')\n",
        "# 평탄화 = 행 우선 정렬 방식"
      ],
      "metadata": {
        "colab": {
          "base_uri": "https://localhost:8080/"
        },
        "id": "gXgNxPaEClHp",
        "outputId": "9bd6b1eb-fc16-4347-d638-321cbc2246a7"
      },
      "execution_count": null,
      "outputs": [
        {
          "output_type": "execute_result",
          "data": {
            "text/plain": [
              "array([ 0,  1,  2,  3,  4,  5,  6,  7,  8,  9, 10, 11])"
            ]
          },
          "metadata": {},
          "execution_count": 94
        }
      ]
    },
    {
      "cell_type": "code",
      "source": [
        "arr.ravel('F')\n",
        "#  평탄화 = 열 우선 정렬 방식"
      ],
      "metadata": {
        "colab": {
          "base_uri": "https://localhost:8080/"
        },
        "id": "c_v00aGvCo9G",
        "outputId": "159b25e8-05f2-4f72-c82f-ea4ac79af3f6"
      },
      "execution_count": null,
      "outputs": [
        {
          "output_type": "execute_result",
          "data": {
            "text/plain": [
              "array([ 0,  4,  8,  1,  5,  9,  2,  6, 10,  3,  7, 11])"
            ]
          },
          "metadata": {},
          "execution_count": 95
        }
      ]
    },
    {
      "cell_type": "markdown",
      "source": [
        "# 배열 이어 붙이고 나누기"
      ],
      "metadata": {
        "id": "-gR9zGdHC4sW"
      }
    },
    {
      "cell_type": "code",
      "execution_count": null,
      "metadata": {
        "id": "Ywz8RzhT7zkr",
        "colab": {
          "base_uri": "https://localhost:8080/"
        },
        "outputId": "baff557e-cbea-444d-e926-4bbe7df18ec2"
      },
      "outputs": [
        {
          "output_type": "execute_result",
          "data": {
            "text/plain": [
              "array([[1, 2, 3],\n",
              "       [4, 5, 6]])"
            ]
          },
          "metadata": {},
          "execution_count": 3
        }
      ],
      "source": [
        "arr1 = np.array([[1, 2, 3], [4, 5, 6]])\n",
        "arr1"
      ]
    },
    {
      "cell_type": "code",
      "source": [
        "arr2 = np.array([[7, 8, 9], [10, 11, 12]])\n",
        "arr2"
      ],
      "metadata": {
        "colab": {
          "base_uri": "https://localhost:8080/"
        },
        "id": "7lwM3-QYC_Cp",
        "outputId": "72fd8c4b-fe72-4d8c-a6d6-d63dec713848"
      },
      "execution_count": null,
      "outputs": [
        {
          "output_type": "execute_result",
          "data": {
            "text/plain": [
              "array([[ 7,  8,  9],\n",
              "       [10, 11, 12]])"
            ]
          },
          "metadata": {},
          "execution_count": 4
        }
      ]
    },
    {
      "cell_type": "code",
      "source": [
        "np.concatenate([arr1, arr2], axis=0)\n",
        "# 위아래로 붙이기"
      ],
      "metadata": {
        "colab": {
          "base_uri": "https://localhost:8080/"
        },
        "id": "OqAvAHtyDAnu",
        "outputId": "69538017-ae51-4628-a8ef-1cc7a6b1f483"
      },
      "execution_count": null,
      "outputs": [
        {
          "output_type": "execute_result",
          "data": {
            "text/plain": [
              "array([[ 1,  2,  3],\n",
              "       [ 4,  5,  6],\n",
              "       [ 7,  8,  9],\n",
              "       [10, 11, 12]])"
            ]
          },
          "metadata": {},
          "execution_count": 5
        }
      ]
    },
    {
      "cell_type": "code",
      "source": [
        "np.concatenate([arr1, arr2], axis=1)\n",
        "# 좌우로 붙이기"
      ],
      "metadata": {
        "colab": {
          "base_uri": "https://localhost:8080/"
        },
        "id": "tR-P7rBmDCor",
        "outputId": "efdb0609-eb50-4436-dddd-151ee217c35b"
      },
      "execution_count": null,
      "outputs": [
        {
          "output_type": "execute_result",
          "data": {
            "text/plain": [
              "array([[ 1,  2,  3,  7,  8,  9],\n",
              "       [ 4,  5,  6, 10, 11, 12]])"
            ]
          },
          "metadata": {},
          "execution_count": 6
        }
      ]
    },
    {
      "cell_type": "code",
      "execution_count": null,
      "metadata": {
        "id": "vPH2QbqB7zkr",
        "colab": {
          "base_uri": "https://localhost:8080/"
        },
        "outputId": "d6c82ebe-79f1-4565-9d3f-d5816d028ad8"
      },
      "outputs": [
        {
          "output_type": "execute_result",
          "data": {
            "text/plain": [
              "array([[ 1,  2,  3],\n",
              "       [ 4,  5,  6],\n",
              "       [ 7,  8,  9],\n",
              "       [10, 11, 12]])"
            ]
          },
          "metadata": {},
          "execution_count": 7
        }
      ],
      "source": [
        "np.vstack((arr1, arr2))\n",
        "# 위아래로 붙이기"
      ]
    },
    {
      "cell_type": "code",
      "source": [
        "np.hstack((arr1, arr2))\n",
        "# 좌우로 붙이기"
      ],
      "metadata": {
        "id": "XHfcT4lqDru6",
        "colab": {
          "base_uri": "https://localhost:8080/"
        },
        "outputId": "3ddf3a9a-3e2a-499d-f634-6344c7637281"
      },
      "execution_count": null,
      "outputs": [
        {
          "output_type": "execute_result",
          "data": {
            "text/plain": [
              "array([[ 1,  2,  3,  7,  8,  9],\n",
              "       [ 4,  5,  6, 10, 11, 12]])"
            ]
          },
          "metadata": {},
          "execution_count": 8
        }
      ]
    },
    {
      "cell_type": "code",
      "execution_count": null,
      "metadata": {
        "id": "eHfkReHP7zkr",
        "colab": {
          "base_uri": "https://localhost:8080/"
        },
        "outputId": "d03e696d-bc95-450a-966f-e156181e75dd"
      },
      "outputs": [
        {
          "output_type": "execute_result",
          "data": {
            "text/plain": [
              "array([[0, 1],\n",
              "       [2, 3],\n",
              "       [4, 5],\n",
              "       [6, 7],\n",
              "       [8, 9]])"
            ]
          },
          "metadata": {},
          "execution_count": 9
        }
      ],
      "source": [
        "arr = np.arange(10).reshape((5, 2))\n",
        "arr"
      ]
    },
    {
      "cell_type": "code",
      "source": [
        "first, second, third = np.split(arr, [1, 3])\n",
        "first\n",
        "# 1 번 행 기준, 3 번 행 기준으로 분할"
      ],
      "metadata": {
        "colab": {
          "base_uri": "https://localhost:8080/"
        },
        "id": "luj4wqA3D00v",
        "outputId": "b6499db0-cefe-4f0f-ba0b-0afe4a9306fb"
      },
      "execution_count": null,
      "outputs": [
        {
          "output_type": "execute_result",
          "data": {
            "text/plain": [
              "array([[0, 1]])"
            ]
          },
          "metadata": {},
          "execution_count": 10
        }
      ]
    },
    {
      "cell_type": "code",
      "source": [
        "second"
      ],
      "metadata": {
        "colab": {
          "base_uri": "https://localhost:8080/"
        },
        "id": "prwtrAwiESwI",
        "outputId": "ec1b8bd9-a801-4580-d12a-653092fc001f"
      },
      "execution_count": null,
      "outputs": [
        {
          "output_type": "execute_result",
          "data": {
            "text/plain": [
              "array([[2, 3],\n",
              "       [4, 5]])"
            ]
          },
          "metadata": {},
          "execution_count": 11
        }
      ]
    },
    {
      "cell_type": "code",
      "source": [
        "third"
      ],
      "metadata": {
        "colab": {
          "base_uri": "https://localhost:8080/"
        },
        "id": "-WRLHR0WEUwh",
        "outputId": "cfe0cb59-048d-4b5b-eab0-3eb244fa408e"
      },
      "execution_count": null,
      "outputs": [
        {
          "output_type": "execute_result",
          "data": {
            "text/plain": [
              "array([[6, 7],\n",
              "       [8, 9]])"
            ]
          },
          "metadata": {},
          "execution_count": 12
        }
      ]
    },
    {
      "cell_type": "markdown",
      "source": [
        "# 배열 전치와 축 바꾸기"
      ],
      "metadata": {
        "id": "c1KjA7t17wo8"
      }
    },
    {
      "cell_type": "code",
      "execution_count": null,
      "metadata": {
        "id": "V3MAYmNuv__b",
        "colab": {
          "base_uri": "https://localhost:8080/"
        },
        "outputId": "a2192328-a288-4e22-e31f-679ed63c86a5"
      },
      "outputs": [
        {
          "output_type": "execute_result",
          "data": {
            "text/plain": [
              "array([[ 0,  1,  2,  3,  4],\n",
              "       [ 5,  6,  7,  8,  9],\n",
              "       [10, 11, 12, 13, 14]])"
            ]
          },
          "metadata": {},
          "execution_count": 2
        }
      ],
      "source": [
        "# 배열 전치\n",
        "arr = np.arange(15).reshape((3, 5))\n",
        "arr"
      ]
    },
    {
      "cell_type": "code",
      "source": [
        "arr.T\n",
        "# 행과 열을 바꿔 반환"
      ],
      "metadata": {
        "colab": {
          "base_uri": "https://localhost:8080/"
        },
        "id": "GEoWfjSV72WD",
        "outputId": "d4cd1a29-e36e-4321-8f3c-0eebbd6d3d5e"
      },
      "execution_count": null,
      "outputs": [
        {
          "output_type": "execute_result",
          "data": {
            "text/plain": [
              "array([[ 0,  5, 10],\n",
              "       [ 1,  6, 11],\n",
              "       [ 2,  7, 12],\n",
              "       [ 3,  8, 13],\n",
              "       [ 4,  9, 14]])"
            ]
          },
          "metadata": {},
          "execution_count": 3
        }
      ]
    },
    {
      "cell_type": "code",
      "source": [
        "arr.transpose()"
      ],
      "metadata": {
        "colab": {
          "base_uri": "https://localhost:8080/"
        },
        "id": "4NiRXjIGAb94",
        "outputId": "2ad34ec7-23e2-497b-ae4e-9ccc36d52ec7"
      },
      "execution_count": null,
      "outputs": [
        {
          "output_type": "execute_result",
          "data": {
            "text/plain": [
              "array([[ 0,  5, 10],\n",
              "       [ 1,  6, 11],\n",
              "       [ 2,  7, 12],\n",
              "       [ 3,  8, 13],\n",
              "       [ 4,  9, 14]])"
            ]
          },
          "metadata": {},
          "execution_count": 4
        }
      ]
    },
    {
      "cell_type": "code",
      "execution_count": null,
      "metadata": {
        "id": "710cr3xQv__b",
        "colab": {
          "base_uri": "https://localhost:8080/"
        },
        "outputId": "d8839446-9dfd-4086-dbb1-9c9ccb156db5"
      },
      "outputs": [
        {
          "output_type": "execute_result",
          "data": {
            "text/plain": [
              "array([[ 0,  1,  0],\n",
              "       [ 1,  2, -2],\n",
              "       [ 6,  3,  2],\n",
              "       [-1,  0, -1],\n",
              "       [ 1,  0,  1]])"
            ]
          },
          "metadata": {},
          "execution_count": 5
        }
      ],
      "source": [
        "# 행렬의 내적 = 행렬 곱\n",
        "arr = np.array([[0, 1, 0], [1, 2, -2], [6, 3, 2], [-1, 0, -1], [1, 0, 1]])\n",
        "arr\n",
        "# 5 * 3"
      ]
    },
    {
      "cell_type": "code",
      "source": [
        "arr.T\n",
        "# 3 * 5"
      ],
      "metadata": {
        "colab": {
          "base_uri": "https://localhost:8080/"
        },
        "id": "Xg1VgMSG8Z_3",
        "outputId": "b0b072f1-2865-4b56-d7d7-768bacaa2fbf"
      },
      "execution_count": null,
      "outputs": [
        {
          "output_type": "execute_result",
          "data": {
            "text/plain": [
              "array([[ 0,  1,  6, -1,  1],\n",
              "       [ 1,  2,  3,  0,  0],\n",
              "       [ 0, -2,  2, -1,  1]])"
            ]
          },
          "metadata": {},
          "execution_count": 6
        }
      ]
    },
    {
      "cell_type": "code",
      "source": [
        "np.dot(arr.T, arr)\n",
        "# 행렬의 내적 = 행렬 곱 = 앞 배열의 행과 뒤 배열의 열의 각 대응하는 값을 곱하여 더하는 것\n",
        "# 첫 번째 행과 첫 번째 열\n",
        "# 첫 번째 행과 두 번째 열\n",
        "# 첫 번째 행과 세 번째 열\n",
        "# 두 번째 행과 첫 번째 열\n",
        "# 두 번째 행과 두 번째 열\n",
        "# 두 번째 행과 세 번째 열\n",
        "# 세 번째 행과 첫 번째 열\n",
        "# 세 번째 행과 두 번째 열\n",
        "# 세 번째 행과 세 번째 열\n",
        "# 순차적으로 동일하게 연산\n",
        "# 행렬 곱은 두 행렬의 대응하는 차원의 원소 수가 같아야 함\n",
        "# 3 * 5 * 5 * 3\n",
        "# 5 로 일치함"
      ],
      "metadata": {
        "colab": {
          "base_uri": "https://localhost:8080/"
        },
        "id": "tiPHdetT7-bA",
        "outputId": "8e6144d5-6ea5-403e-8de1-852e38a05e9e"
      },
      "execution_count": null,
      "outputs": [
        {
          "output_type": "execute_result",
          "data": {
            "text/plain": [
              "array([[39, 20, 12],\n",
              "       [20, 14,  2],\n",
              "       [12,  2, 10]])"
            ]
          },
          "metadata": {},
          "execution_count": 7
        }
      ]
    },
    {
      "cell_type": "code",
      "source": [
        "# 예) 앞 배열의 첫 번째 행과 뒤 배열의 첫 번째 열의 각 대응하는 값을 곱하여 더하는 것\n",
        "0,  1,  6, -1,  1 # 앞 배열의 첫 번째 행\n",
        "0,  1,  6, -1,  1 # 뒤 배열의 첫 번째 열\n",
        "0 * 0 + 1 * 1 + 6 * 6 + -1 * -1 + 1 * 1"
      ],
      "metadata": {
        "colab": {
          "base_uri": "https://localhost:8080/"
        },
        "id": "2Vg-nqP_8kQY",
        "outputId": "58b0fe27-8296-4fb6-a9f5-c34d13fc99a4"
      },
      "execution_count": null,
      "outputs": [
        {
          "output_type": "execute_result",
          "data": {
            "text/plain": [
              "39"
            ]
          },
          "metadata": {},
          "execution_count": 8
        }
      ]
    },
    {
      "cell_type": "code",
      "source": [
        "# 첫 번째 행과 두 번째 열\n",
        "0,  1,  6, -1,  1 # 앞 배열의 첫 번째 행\n",
        "1,  2,  3,  0,  0 # 뒤 배열의 두 번째 열\n",
        "0 * 1 + 1 * 2 + 6 * 3 + -1 * 0 + 1 * 0"
      ],
      "metadata": {
        "colab": {
          "base_uri": "https://localhost:8080/"
        },
        "id": "XxWXnVIJ9-zt",
        "outputId": "6291cd86-26db-4535-a422-8ec0398a0202"
      },
      "execution_count": null,
      "outputs": [
        {
          "output_type": "execute_result",
          "data": {
            "text/plain": [
              "20"
            ]
          },
          "metadata": {},
          "execution_count": 9
        }
      ]
    },
    {
      "cell_type": "code",
      "execution_count": null,
      "metadata": {
        "id": "QZwjbki2v__b",
        "colab": {
          "base_uri": "https://localhost:8080/"
        },
        "outputId": "b9be9115-3267-4583-be24-37b1265ecc89"
      },
      "outputs": [
        {
          "output_type": "execute_result",
          "data": {
            "text/plain": [
              "array([[39, 20, 12],\n",
              "       [20, 14,  2],\n",
              "       [12,  2, 10]])"
            ]
          },
          "metadata": {},
          "execution_count": 10
        }
      ],
      "source": [
        "arr.T @ arr\n",
        "# 행렬 곱을 수행하는 다른 방법"
      ]
    },
    {
      "cell_type": "code",
      "execution_count": null,
      "metadata": {
        "id": "lBlGOvbbv__b",
        "colab": {
          "base_uri": "https://localhost:8080/"
        },
        "outputId": "c5b173f3-e27a-4a61-8c13-48f2c245238a"
      },
      "outputs": [
        {
          "output_type": "execute_result",
          "data": {
            "text/plain": [
              "array([[ 0,  1,  0],\n",
              "       [ 1,  2, -2],\n",
              "       [ 6,  3,  2],\n",
              "       [-1,  0, -1],\n",
              "       [ 1,  0,  1]])"
            ]
          },
          "metadata": {},
          "execution_count": 11
        }
      ],
      "source": [
        "arr"
      ]
    },
    {
      "cell_type": "code",
      "source": [
        "# 2차원 배열 = 5(2차원의 축 = 0) * 3(1차원의 축 = 1)\n",
        "arr.swapaxes(0, 1)\n",
        "# swapaxes 메서드를 통해 2 개의 축 번호를 받아서 배열을 바꿈\n",
        "# 배열 전치 T 와 동일한 결과 볼 수 있음"
      ],
      "metadata": {
        "colab": {
          "base_uri": "https://localhost:8080/"
        },
        "id": "hfA6_MhbBM0m",
        "outputId": "14e943e5-2615-43ca-a13f-a14505a8325d"
      },
      "execution_count": null,
      "outputs": [
        {
          "output_type": "execute_result",
          "data": {
            "text/plain": [
              "array([[ 0,  1,  6, -1,  1],\n",
              "       [ 1,  2,  3,  0,  0],\n",
              "       [ 0, -2,  2, -1,  1]])"
            ]
          },
          "metadata": {},
          "execution_count": 12
        }
      ]
    },
    {
      "cell_type": "code",
      "source": [
        "arr.swapaxes(1, 0)"
      ],
      "metadata": {
        "colab": {
          "base_uri": "https://localhost:8080/"
        },
        "id": "lQ1Bc9aF_TTN",
        "outputId": "85c4eef0-db66-4e55-fac4-508b7cd2a19e"
      },
      "execution_count": null,
      "outputs": [
        {
          "output_type": "execute_result",
          "data": {
            "text/plain": [
              "array([[ 0,  1,  6, -1,  1],\n",
              "       [ 1,  2,  3,  0,  0],\n",
              "       [ 0, -2,  2, -1,  1]])"
            ]
          },
          "metadata": {},
          "execution_count": 13
        }
      ]
    },
    {
      "cell_type": "code",
      "source": [
        "arr.swapaxes(0, 0)"
      ],
      "metadata": {
        "colab": {
          "base_uri": "https://localhost:8080/"
        },
        "id": "ryapD6fEBJmB",
        "outputId": "c20c88eb-1a84-4298-c96e-1963696adffa"
      },
      "execution_count": null,
      "outputs": [
        {
          "output_type": "execute_result",
          "data": {
            "text/plain": [
              "array([[ 0,  1,  0],\n",
              "       [ 1,  2, -2],\n",
              "       [ 6,  3,  2],\n",
              "       [-1,  0, -1],\n",
              "       [ 1,  0,  1]])"
            ]
          },
          "metadata": {},
          "execution_count": 14
        }
      ]
    },
    {
      "cell_type": "code",
      "source": [
        "arr.swapaxes(1, 1)"
      ],
      "metadata": {
        "colab": {
          "base_uri": "https://localhost:8080/"
        },
        "id": "XWSDDP-1-78p",
        "outputId": "cb39c38e-ce47-4c9c-eb72-ef9c0cc8d952"
      },
      "execution_count": null,
      "outputs": [
        {
          "output_type": "execute_result",
          "data": {
            "text/plain": [
              "array([[ 0,  1,  0],\n",
              "       [ 1,  2, -2],\n",
              "       [ 6,  3,  2],\n",
              "       [-1,  0, -1],\n",
              "       [ 1,  0,  1]])"
            ]
          },
          "metadata": {},
          "execution_count": 15
        }
      ]
    },
    {
      "cell_type": "code",
      "source": [
        "# 3차원 배열 = 2(3차원의 축 = 0) * 3(2차원의 축 = 1) * 4(1차원의 축 = 2)\n",
        "arr = np.arange(24).reshape(2,3,4)\n",
        "arr"
      ],
      "metadata": {
        "colab": {
          "base_uri": "https://localhost:8080/"
        },
        "id": "FFEVjrlPBQ4x",
        "outputId": "30677a16-f403-48f3-eb53-cbd784d87b34"
      },
      "execution_count": null,
      "outputs": [
        {
          "output_type": "execute_result",
          "data": {
            "text/plain": [
              "array([[[ 0,  1,  2,  3],\n",
              "        [ 4,  5,  6,  7],\n",
              "        [ 8,  9, 10, 11]],\n",
              "\n",
              "       [[12, 13, 14, 15],\n",
              "        [16, 17, 18, 19],\n",
              "        [20, 21, 22, 23]]])"
            ]
          },
          "metadata": {},
          "execution_count": 99
        }
      ]
    },
    {
      "cell_type": "code",
      "source": [
        "arr.swapaxes(0, 1)\n",
        "# 3 * 2 * 4"
      ],
      "metadata": {
        "colab": {
          "base_uri": "https://localhost:8080/"
        },
        "id": "b9AYkaEU_CSG",
        "outputId": "93585e2d-3670-43f4-847d-b412588fb8e2"
      },
      "execution_count": null,
      "outputs": [
        {
          "output_type": "execute_result",
          "data": {
            "text/plain": [
              "array([[[ 0,  1,  2,  3],\n",
              "        [12, 13, 14, 15]],\n",
              "\n",
              "       [[ 4,  5,  6,  7],\n",
              "        [16, 17, 18, 19]],\n",
              "\n",
              "       [[ 8,  9, 10, 11],\n",
              "        [20, 21, 22, 23]]])"
            ]
          },
          "metadata": {},
          "execution_count": 100
        }
      ]
    },
    {
      "cell_type": "code",
      "source": [
        "arr.swapaxes(0, 2)\n",
        "# 4 * 3 * 2"
      ],
      "metadata": {
        "colab": {
          "base_uri": "https://localhost:8080/"
        },
        "id": "yye07Qik0T2u",
        "outputId": "3f8cb019-2ff3-4a5b-df71-b02d7ff2b156"
      },
      "execution_count": null,
      "outputs": [
        {
          "output_type": "execute_result",
          "data": {
            "text/plain": [
              "array([[[ 0, 12],\n",
              "        [ 4, 16],\n",
              "        [ 8, 20]],\n",
              "\n",
              "       [[ 1, 13],\n",
              "        [ 5, 17],\n",
              "        [ 9, 21]],\n",
              "\n",
              "       [[ 2, 14],\n",
              "        [ 6, 18],\n",
              "        [10, 22]],\n",
              "\n",
              "       [[ 3, 15],\n",
              "        [ 7, 19],\n",
              "        [11, 23]]])"
            ]
          },
          "metadata": {},
          "execution_count": 101
        }
      ]
    },
    {
      "cell_type": "code",
      "source": [
        "arr.swapaxes(1, 2)\n",
        "# 2 * 4 * 3"
      ],
      "metadata": {
        "colab": {
          "base_uri": "https://localhost:8080/"
        },
        "id": "BFDJ_zEQBvzt",
        "outputId": "9b631d32-06a1-411d-e021-3a0110edc613"
      },
      "execution_count": null,
      "outputs": [
        {
          "output_type": "execute_result",
          "data": {
            "text/plain": [
              "array([[[ 0,  4,  8],\n",
              "        [ 1,  5,  9],\n",
              "        [ 2,  6, 10],\n",
              "        [ 3,  7, 11]],\n",
              "\n",
              "       [[12, 16, 20],\n",
              "        [13, 17, 21],\n",
              "        [14, 18, 22],\n",
              "        [15, 19, 23]]])"
            ]
          },
          "metadata": {},
          "execution_count": 102
        }
      ]
    },
    {
      "cell_type": "code",
      "source": [
        "# 3차원 배열 = 2(3차원의 축 = 0) * 3(2차원의 축 = 1) * 4(1차원의 축 = 2)\n",
        "arr = np.arange(24).reshape(2,3,4)\n",
        "arr"
      ],
      "metadata": {
        "colab": {
          "base_uri": "https://localhost:8080/"
        },
        "outputId": "30677a16-f403-48f3-eb53-cbd784d87b34",
        "id": "oEVVDY7I_UeE"
      },
      "execution_count": null,
      "outputs": [
        {
          "output_type": "execute_result",
          "data": {
            "text/plain": [
              "array([[[ 0,  1,  2,  3],\n",
              "        [ 4,  5,  6,  7],\n",
              "        [ 8,  9, 10, 11]],\n",
              "\n",
              "       [[12, 13, 14, 15],\n",
              "        [16, 17, 18, 19],\n",
              "        [20, 21, 22, 23]]])"
            ]
          },
          "metadata": {},
          "execution_count": 99
        }
      ]
    },
    {
      "cell_type": "code",
      "source": [
        "arr.transpose((1,0,2))\n",
        "# 3 * 2 * 4"
      ],
      "metadata": {
        "colab": {
          "base_uri": "https://localhost:8080/"
        },
        "id": "8tLbcEaBptRf",
        "outputId": "52c6e90b-bb1d-4747-d16e-3a40b7b2fabe"
      },
      "execution_count": null,
      "outputs": [
        {
          "output_type": "execute_result",
          "data": {
            "text/plain": [
              "array([[[0, 1, 2]],\n",
              "\n",
              "       [[3, 4, 5]]])"
            ]
          },
          "metadata": {},
          "execution_count": 28
        }
      ]
    },
    {
      "cell_type": "code",
      "source": [
        "arr.transpose((2,1,0))\n",
        "# 4 * 3 * 2"
      ],
      "metadata": {
        "colab": {
          "base_uri": "https://localhost:8080/"
        },
        "id": "hXF2eN7fp2pD",
        "outputId": "e8878e2f-f21e-4c71-f850-7138b1514876"
      },
      "execution_count": null,
      "outputs": [
        {
          "output_type": "execute_result",
          "data": {
            "text/plain": [
              "array([[[0],\n",
              "        [3]],\n",
              "\n",
              "       [[1],\n",
              "        [4]],\n",
              "\n",
              "       [[2],\n",
              "        [5]]])"
            ]
          },
          "metadata": {},
          "execution_count": 29
        }
      ]
    },
    {
      "cell_type": "code",
      "source": [
        "arr.transpose((0,2,1))\n",
        "# 2 * 4 * 3"
      ],
      "metadata": {
        "colab": {
          "base_uri": "https://localhost:8080/"
        },
        "id": "DBI3hLfVqCLW",
        "outputId": "6932f694-6eb7-436d-e8ae-dfc6d86be984"
      },
      "execution_count": null,
      "outputs": [
        {
          "output_type": "execute_result",
          "data": {
            "text/plain": [
              "array([[[0, 3],\n",
              "        [1, 4],\n",
              "        [2, 5]]])"
            ]
          },
          "metadata": {},
          "execution_count": 30
        }
      ]
    },
    {
      "cell_type": "markdown",
      "source": [
        "# 난수 생성"
      ],
      "metadata": {
        "id": "K7okEvlTDAQ7"
      }
    },
    {
      "cell_type": "code",
      "execution_count": null,
      "metadata": {
        "id": "E15HOo16v__b",
        "colab": {
          "base_uri": "https://localhost:8080/"
        },
        "outputId": "9d9d0f2b-52c1-430e-876f-308b0e9c6825"
      },
      "outputs": [
        {
          "output_type": "execute_result",
          "data": {
            "text/plain": [
              "array([[ 1.30370091, -0.92297611,  0.56740617,  0.80906929],\n",
              "       [-1.07606396,  2.31616863, -1.98839582,  0.14558736],\n",
              "       [ 2.63788017,  0.29472759,  1.0271773 , -0.78874249],\n",
              "       [-0.67732524,  1.21763277, -1.90789267,  1.0242447 ]])"
            ]
          },
          "metadata": {},
          "execution_count": 21
        }
      ],
      "source": [
        "# 표준정규분포\n",
        "samples = np.random.standard_normal(size=(4, 4))\n",
        "samples"
      ]
    },
    {
      "cell_type": "code",
      "execution_count": null,
      "metadata": {
        "id": "7AuNOClMv__b",
        "colab": {
          "base_uri": "https://localhost:8080/"
        },
        "outputId": "a79a4397-bf6a-44a8-f5e9-4a4f8850c853"
      },
      "outputs": [
        {
          "output_type": "stream",
          "name": "stdout",
          "text": [
            "951 ms ± 274 ms per loop (mean ± std. dev. of 7 runs, 1 loop each)\n",
            "34.2 ms ± 6.33 ms per loop (mean ± std. dev. of 7 runs, 10 loops each)\n"
          ]
        }
      ],
      "source": [
        "# 표준 모듈 random 과 넘파이 random 을 이용하여 표준정규분포 생성 속도 비교\n",
        "from random import normalvariate\n",
        "N = 1000000\n",
        "# 파이썬 내장 random 모듈은 한 번에 하나의 값만 생성\n",
        "%timeit samples = [normalvariate(0, 1) for _ in range(N)] # 평균 0 표준편차 1\n",
        "# 넘파이 random 은 매우 큰 표본을 생성하지만 파이썬 표준 모듈보다 수십배 이상 빠름\n",
        "%timeit np.random.standard_normal(N)"
      ]
    },
    {
      "cell_type": "code",
      "source": [
        "951 / 34.2\n",
        "# 약 27 배 빠름"
      ],
      "metadata": {
        "colab": {
          "base_uri": "https://localhost:8080/"
        },
        "id": "RG0mwTZFDs5I",
        "outputId": "963e2ee9-9335-4f55-db37-109ad18fb802"
      },
      "execution_count": null,
      "outputs": [
        {
          "output_type": "execute_result",
          "data": {
            "text/plain": [
              "27.807017543859647"
            ]
          },
          "metadata": {},
          "execution_count": 23
        }
      ]
    },
    {
      "cell_type": "code",
      "execution_count": null,
      "metadata": {
        "id": "IdgPayH_v__b",
        "colab": {
          "base_uri": "https://localhost:8080/"
        },
        "outputId": "e36e01be-ef7a-4337-a10e-bd71e37df490"
      },
      "outputs": [
        {
          "output_type": "execute_result",
          "data": {
            "text/plain": [
              "array([[-1.4238,  1.2637, -0.8707],\n",
              "       [-0.2592, -0.0753, -0.7409]])"
            ]
          },
          "metadata": {},
          "execution_count": 17
        }
      ],
      "source": [
        "# 난수 생성기를 명시적으로 설정\n",
        "rng = np.random.default_rng(seed=12345)\n",
        "data = rng.standard_normal((2, 3))\n",
        "data"
      ]
    },
    {
      "cell_type": "code",
      "execution_count": null,
      "metadata": {
        "id": "g5oCZ8olv__b",
        "colab": {
          "base_uri": "https://localhost:8080/"
        },
        "outputId": "89472a74-360b-46d6-8e0d-d90ab84235ac"
      },
      "outputs": [
        {
          "output_type": "execute_result",
          "data": {
            "text/plain": [
              "numpy.random._generator.Generator"
            ]
          },
          "metadata": {},
          "execution_count": 49
        }
      ],
      "source": [
        "type(rng)\n",
        "# 난수 생성기 객체\n",
        "# rng 를 가지고 난수 데이터 생성"
      ]
    },
    {
      "cell_type": "markdown",
      "source": [
        "# 유니버설 함수"
      ],
      "metadata": {
        "id": "VdB8cBRRFX9Q"
      }
    },
    {
      "cell_type": "code",
      "execution_count": null,
      "metadata": {
        "id": "NeoFHH2uv__b",
        "colab": {
          "base_uri": "https://localhost:8080/"
        },
        "outputId": "d596668e-737a-45ba-9f24-9d05a1f7b9ac"
      },
      "outputs": [
        {
          "output_type": "execute_result",
          "data": {
            "text/plain": [
              "array([0, 1, 2, 3, 4, 5, 6, 7, 8, 9])"
            ]
          },
          "metadata": {},
          "execution_count": 27
        }
      ],
      "source": [
        "# 배열의 각 원소를 빠르게 처리하는 함수\n",
        "arr = np.arange(10)\n",
        "arr"
      ]
    },
    {
      "cell_type": "code",
      "source": [
        "np.sqrt(arr)\n",
        "# 제곱근"
      ],
      "metadata": {
        "colab": {
          "base_uri": "https://localhost:8080/"
        },
        "id": "yif8iNtyFfrW",
        "outputId": "9c1f7ca3-e3de-42c2-e21f-6f86db6a259b"
      },
      "execution_count": null,
      "outputs": [
        {
          "output_type": "execute_result",
          "data": {
            "text/plain": [
              "array([0.        , 1.        , 1.41421356, 1.73205081, 2.        ,\n",
              "       2.23606798, 2.44948974, 2.64575131, 2.82842712, 3.        ])"
            ]
          },
          "metadata": {},
          "execution_count": 28
        }
      ]
    },
    {
      "cell_type": "code",
      "source": [
        "np.exp(arr)\n",
        "# 지수함수\n",
        "# 밑이 자연상수 e = 2.718\n",
        "# 단항 유니버설 함수"
      ],
      "metadata": {
        "colab": {
          "base_uri": "https://localhost:8080/"
        },
        "id": "om51GNe3Fia6",
        "outputId": "b9612779-c6cb-43c8-9e0b-63dc2d609982"
      },
      "execution_count": null,
      "outputs": [
        {
          "output_type": "execute_result",
          "data": {
            "text/plain": [
              "array([1.00000000e+00, 2.71828183e+00, 7.38905610e+00, 2.00855369e+01,\n",
              "       5.45981500e+01, 1.48413159e+02, 4.03428793e+02, 1.09663316e+03,\n",
              "       2.98095799e+03, 8.10308393e+03])"
            ]
          },
          "metadata": {},
          "execution_count": 29
        }
      ]
    },
    {
      "cell_type": "code",
      "execution_count": null,
      "metadata": {
        "id": "E8BnNvkRv__c",
        "colab": {
          "base_uri": "https://localhost:8080/"
        },
        "outputId": "747cf163-6beb-4410-874f-f6d0a82c4544"
      },
      "outputs": [
        {
          "output_type": "execute_result",
          "data": {
            "text/plain": [
              "array([-1.3677927 ,  0.6488928 ,  0.36105811, -1.95286306,  2.34740965,\n",
              "        0.96849691, -0.75938718,  0.90219827])"
            ]
          },
          "metadata": {},
          "execution_count": 30
        }
      ],
      "source": [
        "# 이항 유니버설 함수\n",
        "x = rng.standard_normal(8)\n",
        "x"
      ]
    },
    {
      "cell_type": "code",
      "source": [
        "y = rng.standard_normal(8)\n",
        "y"
      ],
      "metadata": {
        "colab": {
          "base_uri": "https://localhost:8080/"
        },
        "id": "LqXZ87p7G1AD",
        "outputId": "487d27c5-8fca-441e-8b74-83a76a3cdff6"
      },
      "execution_count": null,
      "outputs": [
        {
          "output_type": "execute_result",
          "data": {
            "text/plain": [
              "array([-0.46695317, -0.06068952,  0.78884434, -1.25666813,  0.57585751,\n",
              "        1.39897899,  1.32229806, -0.29969852])"
            ]
          },
          "metadata": {},
          "execution_count": 31
        }
      ]
    },
    {
      "cell_type": "code",
      "source": [
        "np.maximum(x, y)\n",
        "# x 와 y 의 각 대응하는 값 중에서 최대값"
      ],
      "metadata": {
        "colab": {
          "base_uri": "https://localhost:8080/"
        },
        "id": "nEgPrba4G2p7",
        "outputId": "adeb5173-d4cd-4423-e334-052601f453aa"
      },
      "execution_count": null,
      "outputs": [
        {
          "output_type": "execute_result",
          "data": {
            "text/plain": [
              "array([-0.46695317,  0.6488928 ,  0.78884434, -1.25666813,  2.34740965,\n",
              "        1.39897899,  1.32229806,  0.90219827])"
            ]
          },
          "metadata": {},
          "execution_count": 32
        }
      ]
    },
    {
      "cell_type": "code",
      "execution_count": null,
      "metadata": {
        "id": "3bKEUZ-4v__c",
        "colab": {
          "base_uri": "https://localhost:8080/"
        },
        "outputId": "273af7e4-7459-4f9c-b36b-be5ecb314627"
      },
      "outputs": [
        {
          "output_type": "execute_result",
          "data": {
            "text/plain": [
              "array([ 4.51459671, -8.10791367, -0.7909463 ,  2.24741966, -6.71800536,\n",
              "       -0.40843795,  8.62369966])"
            ]
          },
          "metadata": {},
          "execution_count": 33
        }
      ],
      "source": [
        "# 여러 개의 배열을 반환하는 유니버설 함수\n",
        "arr = rng.standard_normal(7) * 5\n",
        "arr"
      ]
    },
    {
      "cell_type": "code",
      "source": [
        "remainder, whole_part = np.modf(arr)\n",
        "remainder # 나머지"
      ],
      "metadata": {
        "colab": {
          "base_uri": "https://localhost:8080/"
        },
        "id": "gxXh8nZ-LJDq",
        "outputId": "7dbdf209-ee0c-4452-9ae3-3b63adf15820"
      },
      "execution_count": null,
      "outputs": [
        {
          "output_type": "execute_result",
          "data": {
            "text/plain": [
              "array([ 0.51459671, -0.10791367, -0.7909463 ,  0.24741966, -0.71800536,\n",
              "       -0.40843795,  0.62369966])"
            ]
          },
          "metadata": {},
          "execution_count": 34
        }
      ]
    },
    {
      "cell_type": "code",
      "source": [
        "whole_part # 몫"
      ],
      "metadata": {
        "colab": {
          "base_uri": "https://localhost:8080/"
        },
        "id": "WI3ZVHh7LSQ2",
        "outputId": "7d2b0317-d559-4234-9fb6-a42120e01849"
      },
      "execution_count": null,
      "outputs": [
        {
          "output_type": "execute_result",
          "data": {
            "text/plain": [
              "array([ 4., -8., -0.,  2., -6., -0.,  8.])"
            ]
          },
          "metadata": {},
          "execution_count": 35
        }
      ]
    },
    {
      "cell_type": "code",
      "execution_count": null,
      "metadata": {
        "id": "79Tdj_MJv__c",
        "colab": {
          "base_uri": "https://localhost:8080/"
        },
        "outputId": "a97e04e3-17be-495a-ee21-b2d8e6a1e87c"
      },
      "outputs": [
        {
          "output_type": "execute_result",
          "data": {
            "text/plain": [
              "array([ 4.51459671, -8.10791367, -0.7909463 ,  2.24741966, -6.71800536,\n",
              "       -0.40843795,  8.62369966])"
            ]
          },
          "metadata": {},
          "execution_count": 36
        }
      ],
      "source": [
        "# out 매개변수 사용\n",
        "arr"
      ]
    },
    {
      "cell_type": "code",
      "source": [
        "out = np.zeros_like(arr)\n",
        "out"
      ],
      "metadata": {
        "colab": {
          "base_uri": "https://localhost:8080/"
        },
        "id": "Gnt7YRktLpbZ",
        "outputId": "a299f5e3-41ea-43fc-9b85-4f5c0e358916"
      },
      "execution_count": null,
      "outputs": [
        {
          "output_type": "execute_result",
          "data": {
            "text/plain": [
              "array([0., 0., 0., 0., 0., 0., 0.])"
            ]
          },
          "metadata": {},
          "execution_count": 37
        }
      ]
    },
    {
      "cell_type": "code",
      "source": [
        "np.add(arr, 1)\n",
        "# arr 배열에 1 를 더한 배열 = 새로운 배열"
      ],
      "metadata": {
        "colab": {
          "base_uri": "https://localhost:8080/"
        },
        "id": "rOCHsiB5LvE5",
        "outputId": "36b2abcd-5be0-4153-da58-8bcce054d03d"
      },
      "execution_count": null,
      "outputs": [
        {
          "output_type": "execute_result",
          "data": {
            "text/plain": [
              "array([ 5.51459671, -7.10791367,  0.2090537 ,  3.24741966, -5.71800536,\n",
              "        0.59156205,  9.62369966])"
            ]
          },
          "metadata": {},
          "execution_count": 38
        }
      ]
    },
    {
      "cell_type": "code",
      "source": [
        "arr # 기존 배열에 변화 없음"
      ],
      "metadata": {
        "colab": {
          "base_uri": "https://localhost:8080/"
        },
        "id": "QIV1mFlWMjtn",
        "outputId": "28c6b67e-7f91-4c53-ce99-496ea28e9a52"
      },
      "execution_count": null,
      "outputs": [
        {
          "output_type": "execute_result",
          "data": {
            "text/plain": [
              "array([ 4.51459671, -8.10791367, -0.7909463 ,  2.24741966, -6.71800536,\n",
              "       -0.40843795,  8.62369966])"
            ]
          },
          "metadata": {},
          "execution_count": 39
        }
      ]
    },
    {
      "cell_type": "code",
      "source": [
        "np.add(arr, 1, out=out)\n",
        "# out 이라는 배열에 연산 결과를 할당"
      ],
      "metadata": {
        "colab": {
          "base_uri": "https://localhost:8080/"
        },
        "id": "gMzU6mBUL2k3",
        "outputId": "1cd6f28a-345a-4661-d894-7ad28013d0db"
      },
      "execution_count": null,
      "outputs": [
        {
          "output_type": "execute_result",
          "data": {
            "text/plain": [
              "array([ 5.51459671, -7.10791367,  0.2090537 ,  3.24741966, -5.71800536,\n",
              "        0.59156205,  9.62369966])"
            ]
          },
          "metadata": {},
          "execution_count": 40
        }
      ]
    },
    {
      "cell_type": "code",
      "source": [
        "out"
      ],
      "metadata": {
        "colab": {
          "base_uri": "https://localhost:8080/"
        },
        "id": "TnT14xn6MA6w",
        "outputId": "95283197-1768-4fa8-a71a-f32f349fcab8"
      },
      "execution_count": null,
      "outputs": [
        {
          "output_type": "execute_result",
          "data": {
            "text/plain": [
              "array([ 5.51459671, -7.10791367,  0.2090537 ,  3.24741966, -5.71800536,\n",
              "        0.59156205,  9.62369966])"
            ]
          },
          "metadata": {},
          "execution_count": 41
        }
      ]
    },
    {
      "cell_type": "markdown",
      "source": [
        "# 배열 연산으로 조건부 표현"
      ],
      "metadata": {
        "id": "UoE-98pdRUVo"
      }
    },
    {
      "cell_type": "code",
      "execution_count": null,
      "metadata": {
        "id": "vu7QKBliv__c"
      },
      "outputs": [],
      "source": [
        "xarr = np.array([1.1, 1.2, 1.3, 1.4, 1.5])\n",
        "yarr = np.array([2.1, 2.2, 2.3, 2.4, 2.5])\n",
        "cond = np.array([True, False, True, True, False])"
      ]
    },
    {
      "cell_type": "code",
      "execution_count": null,
      "metadata": {
        "id": "kJA-Klhbv__c",
        "colab": {
          "base_uri": "https://localhost:8080/"
        },
        "outputId": "9b142e2a-cf14-445e-93d5-834ba888b434"
      },
      "outputs": [
        {
          "output_type": "execute_result",
          "data": {
            "text/plain": [
              "[1.1, 2.2, 1.3, 1.4, 2.5]"
            ]
          },
          "metadata": {},
          "execution_count": 45
        }
      ],
      "source": [
        "result = [(x if c else y)\n",
        "          for x, y, c in zip(xarr, yarr, cond)]\n",
        "result\n",
        "# True 이면 x 값, False 이면 y 값으로 리스트 생성\n",
        "# 리스트 컴프리헨션 문법은 순수 파이썬으로 수행하기 때문 큰 배열을 빠르게 처리 못함\n",
        "# 다차원 배열에서 사용 불가능\n",
        "# 넘파이 where 를 사용하면 아주 간결하게 작성 가능"
      ]
    },
    {
      "cell_type": "code",
      "execution_count": null,
      "metadata": {
        "id": "eFcG9nk1v__c",
        "colab": {
          "base_uri": "https://localhost:8080/"
        },
        "outputId": "3ef28301-1d0f-4af4-cc91-ff8966895b8f"
      },
      "outputs": [
        {
          "output_type": "execute_result",
          "data": {
            "text/plain": [
              "array([1.1, 2.2, 1.3, 1.4, 2.5])"
            ]
          },
          "metadata": {},
          "execution_count": 46
        }
      ],
      "source": [
        "result = np.where(cond, xarr, yarr)\n",
        "result\n",
        "# 첫 번째 매개변수 - 조건\n",
        "# 조건을 만족하면 두 번째 매개변수\n",
        "# 조건을 만족하지 않으면 세 번째 매개변수\n",
        "# True 이면 x 값, False 이면 y 값"
      ]
    },
    {
      "cell_type": "code",
      "execution_count": null,
      "metadata": {
        "id": "On4upIo3v__c",
        "colab": {
          "base_uri": "https://localhost:8080/"
        },
        "outputId": "3ff9a0f6-63e4-4afb-8894-0505fe36e3df"
      },
      "outputs": [
        {
          "output_type": "execute_result",
          "data": {
            "text/plain": [
              "array([[-1.3678,  0.6489,  0.3611, -1.9529],\n",
              "       [ 2.3474,  0.9685, -0.7594,  0.9022],\n",
              "       [-0.467 , -0.0607,  0.7888, -1.2567],\n",
              "       [ 0.5759,  1.399 ,  1.3223, -0.2997]])"
            ]
          },
          "metadata": {},
          "execution_count": 50
        }
      ],
      "source": [
        "arr = rng.standard_normal((4, 4))\n",
        "arr"
      ]
    },
    {
      "cell_type": "code",
      "source": [
        "arr > 0\n",
        "np.where(arr > 0, 2, -2)\n",
        "# 0 보다 크면 2, 나머지 - 2"
      ],
      "metadata": {
        "colab": {
          "base_uri": "https://localhost:8080/"
        },
        "id": "J2Y3aijQS6AK",
        "outputId": "b92d01a6-7882-4398-c6e5-1ad18692ee1d"
      },
      "execution_count": null,
      "outputs": [
        {
          "output_type": "execute_result",
          "data": {
            "text/plain": [
              "array([[-2,  2,  2, -2],\n",
              "       [ 2,  2, -2,  2],\n",
              "       [-2, -2,  2, -2],\n",
              "       [ 2,  2,  2, -2]])"
            ]
          },
          "metadata": {},
          "execution_count": 51
        }
      ]
    },
    {
      "cell_type": "code",
      "execution_count": null,
      "metadata": {
        "id": "N9wKcVONv__d",
        "colab": {
          "base_uri": "https://localhost:8080/"
        },
        "outputId": "3bb44dfa-c1bb-4e4e-99b2-282ac7f5092b"
      },
      "outputs": [
        {
          "output_type": "execute_result",
          "data": {
            "text/plain": [
              "array([[-1.3678,  2.    ,  2.    , -1.9529],\n",
              "       [ 2.    ,  2.    , -0.7594,  2.    ],\n",
              "       [-0.467 , -0.0607,  2.    , -1.2567],\n",
              "       [ 2.    ,  2.    ,  2.    , -0.2997]])"
            ]
          },
          "metadata": {},
          "execution_count": 52
        }
      ],
      "source": [
        "# 스칼라 값과 배열의 조합\n",
        "np.where(arr > 0, 2, arr)\n",
        "# 0 보다 크면 2, 나머지 원래 값"
      ]
    },
    {
      "cell_type": "markdown",
      "source": [
        "# 통계 메서드"
      ],
      "metadata": {
        "id": "uRhSSwWBTjks"
      }
    },
    {
      "cell_type": "code",
      "execution_count": null,
      "metadata": {
        "id": "ty-ilalIv__d",
        "colab": {
          "base_uri": "https://localhost:8080/"
        },
        "outputId": "8baf0ced-12c2-4ec3-dbf0-6c86d50cc825"
      },
      "outputs": [
        {
          "output_type": "execute_result",
          "data": {
            "text/plain": [
              "array([[ 0.9029, -1.6216, -0.1582,  0.4495],\n",
              "       [-1.3436, -0.0817,  1.7247,  2.6182],\n",
              "       [ 0.7774,  0.8286, -0.959 , -1.2094],\n",
              "       [-1.4123,  0.5415,  0.7519, -0.6588],\n",
              "       [-1.2287,  0.2576,  0.3129, -0.1308]])"
            ]
          },
          "metadata": {},
          "execution_count": 53
        }
      ],
      "source": [
        "arr = rng.standard_normal((5, 4))\n",
        "arr"
      ]
    },
    {
      "cell_type": "code",
      "source": [
        "arr.mean()\n",
        "# 평균"
      ],
      "metadata": {
        "colab": {
          "base_uri": "https://localhost:8080/"
        },
        "id": "EwQfsgS5Tt3i",
        "outputId": "b807ab6e-3e59-4909-b9d7-b09c4e7afc47"
      },
      "execution_count": null,
      "outputs": [
        {
          "output_type": "execute_result",
          "data": {
            "text/plain": [
              "0.018063390847970272"
            ]
          },
          "metadata": {},
          "execution_count": 54
        }
      ]
    },
    {
      "cell_type": "code",
      "source": [
        "np.mean(arr)\n",
        "# 평균"
      ],
      "metadata": {
        "colab": {
          "base_uri": "https://localhost:8080/"
        },
        "id": "-j5O8kNLTzgP",
        "outputId": "e491b6af-0bfa-462e-c787-a9241aa2eab7"
      },
      "execution_count": null,
      "outputs": [
        {
          "output_type": "execute_result",
          "data": {
            "text/plain": [
              "0.018063390847970272"
            ]
          },
          "metadata": {},
          "execution_count": 55
        }
      ]
    },
    {
      "cell_type": "code",
      "source": [
        "arr.sum()\n",
        "# 합계"
      ],
      "metadata": {
        "colab": {
          "base_uri": "https://localhost:8080/"
        },
        "id": "qye_3bt3T3YT",
        "outputId": "1d769501-0124-46ad-ef7b-bc079fcfa1b6"
      },
      "execution_count": null,
      "outputs": [
        {
          "output_type": "execute_result",
          "data": {
            "text/plain": [
              "0.36126781695940546"
            ]
          },
          "metadata": {},
          "execution_count": 56
        }
      ]
    },
    {
      "cell_type": "code",
      "source": [
        "arr.mean(axis=0) # 세로\n",
        "# 각 열의 모든 행의 평균"
      ],
      "metadata": {
        "colab": {
          "base_uri": "https://localhost:8080/"
        },
        "id": "akg7bbZbUMx1",
        "outputId": "be5985ea-8312-4e23-f8d1-32d95918aeb9"
      },
      "execution_count": null,
      "outputs": [
        {
          "output_type": "execute_result",
          "data": {
            "text/plain": [
              "array([-0.4609, -0.0151,  0.3345,  0.2137])"
            ]
          },
          "metadata": {},
          "execution_count": 59
        }
      ]
    },
    {
      "cell_type": "code",
      "source": [
        "np.mean([0.9029,-1.3436, 0.7774, -1.4123, -1.2287])\n",
        "# 첫 번째 열의 모든 행의 평균"
      ],
      "metadata": {
        "colab": {
          "base_uri": "https://localhost:8080/"
        },
        "id": "Jh1imCRtUoH0",
        "outputId": "f098b104-1a27-46d7-83b9-26b1e490c34d"
      },
      "execution_count": null,
      "outputs": [
        {
          "output_type": "execute_result",
          "data": {
            "text/plain": [
              "-0.46086"
            ]
          },
          "metadata": {},
          "execution_count": 60
        }
      ]
    },
    {
      "cell_type": "code",
      "execution_count": null,
      "metadata": {
        "id": "s5czR8Frv__d",
        "colab": {
          "base_uri": "https://localhost:8080/"
        },
        "outputId": "853f1304-72b0-432c-9487-437db5de039f"
      },
      "outputs": [
        {
          "output_type": "execute_result",
          "data": {
            "text/plain": [
              "array([-0.1068,  0.7294, -0.1406, -0.1944, -0.1973])"
            ]
          },
          "metadata": {},
          "execution_count": 57
        }
      ],
      "source": [
        "arr.mean(axis=1) # 가로\n",
        "# 각 행의 모든 열의 평균"
      ]
    },
    {
      "cell_type": "code",
      "source": [
        "np.mean([0.9029, -1.6216, -0.1582,  0.4495])\n",
        "# 첫 번째 행의 모든 열의 평균"
      ],
      "metadata": {
        "colab": {
          "base_uri": "https://localhost:8080/"
        },
        "id": "vRkzH0vWURO-",
        "outputId": "f1859aa0-0c1a-4356-f60b-89c4d705dbf1"
      },
      "execution_count": null,
      "outputs": [
        {
          "output_type": "execute_result",
          "data": {
            "text/plain": [
              "-0.10684999999999997"
            ]
          },
          "metadata": {},
          "execution_count": 58
        }
      ]
    },
    {
      "cell_type": "code",
      "source": [
        "arr.sum(axis=0)\n",
        "# 각 열의 모든 행의 합"
      ],
      "metadata": {
        "colab": {
          "base_uri": "https://localhost:8080/"
        },
        "id": "Gzc5peVaUFXG",
        "outputId": "4b71d76d-3681-4177-a39c-8e801aa54cee"
      },
      "execution_count": null,
      "outputs": [
        {
          "output_type": "execute_result",
          "data": {
            "text/plain": [
              "array([-2.3043, -0.0755,  1.6724,  1.0687])"
            ]
          },
          "metadata": {},
          "execution_count": 64
        }
      ]
    },
    {
      "cell_type": "code",
      "source": [
        "np.sum([0.9029,-1.3436, 0.7774, -1.4123, -1.2287])\n",
        "# 첫 번째 열의 모든 행의 평균"
      ],
      "metadata": {
        "colab": {
          "base_uri": "https://localhost:8080/"
        },
        "id": "HOOCCM_TVMOm",
        "outputId": "b75a7ef4-75d8-4c67-9fed-4e25ce1a4784"
      },
      "execution_count": null,
      "outputs": [
        {
          "output_type": "execute_result",
          "data": {
            "text/plain": [
              "-2.3043"
            ]
          },
          "metadata": {},
          "execution_count": 65
        }
      ]
    },
    {
      "cell_type": "code",
      "source": [
        "arr.sum(axis=1)\n",
        "# 각 행의 모든 열의 합"
      ],
      "metadata": {
        "colab": {
          "base_uri": "https://localhost:8080/"
        },
        "id": "qnNnEs3JVHUc",
        "outputId": "9a354934-3830-4f58-e142-52d41745f466"
      },
      "execution_count": null,
      "outputs": [
        {
          "output_type": "execute_result",
          "data": {
            "text/plain": [
              "array([-0.4274,  2.9176, -0.5624, -0.7776, -0.789 ])"
            ]
          },
          "metadata": {},
          "execution_count": 61
        }
      ]
    },
    {
      "cell_type": "code",
      "source": [
        "np.sum([0.9029, -1.6216, -0.1582,  0.4495])\n",
        "# 첫 번째 행의 모든 열의 합"
      ],
      "metadata": {
        "colab": {
          "base_uri": "https://localhost:8080/"
        },
        "id": "1Jp2dxfJVKZE",
        "outputId": "2926ff6b-2706-42c8-db81-ddd172a9e66f"
      },
      "execution_count": null,
      "outputs": [
        {
          "output_type": "execute_result",
          "data": {
            "text/plain": [
              "-0.4273999999999999"
            ]
          },
          "metadata": {},
          "execution_count": 63
        }
      ]
    },
    {
      "cell_type": "code",
      "execution_count": null,
      "metadata": {
        "id": "k2swNTJsv__d",
        "colab": {
          "base_uri": "https://localhost:8080/"
        },
        "outputId": "b5a6d6d1-e500-450b-dea3-db3bd87d6e12"
      },
      "outputs": [
        {
          "output_type": "execute_result",
          "data": {
            "text/plain": [
              "array([ 0,  1,  3,  6, 10, 15, 21, 28])"
            ]
          },
          "metadata": {},
          "execution_count": 66
        }
      ],
      "source": [
        "arr = np.array([0, 1, 2, 3, 4, 5, 6, 7])\n",
        "arr.cumsum()\n",
        "# 누적합"
      ]
    },
    {
      "cell_type": "code",
      "execution_count": null,
      "metadata": {
        "id": "GOUqqk-9v__d",
        "colab": {
          "base_uri": "https://localhost:8080/"
        },
        "outputId": "396c4203-3232-4e5c-cdf7-8e8c98dfe603"
      },
      "outputs": [
        {
          "output_type": "execute_result",
          "data": {
            "text/plain": [
              "array([[0, 1, 2],\n",
              "       [3, 4, 5],\n",
              "       [6, 7, 8]])"
            ]
          },
          "metadata": {},
          "execution_count": 67
        }
      ],
      "source": [
        "arr = np.array([[0, 1, 2], [3, 4, 5], [6, 7, 8]])\n",
        "arr"
      ]
    },
    {
      "cell_type": "code",
      "execution_count": null,
      "metadata": {
        "id": "ic9hwrEzv__d",
        "colab": {
          "base_uri": "https://localhost:8080/"
        },
        "outputId": "911e030f-0e04-47ec-a5a2-ffd63cc32319"
      },
      "outputs": [
        {
          "output_type": "execute_result",
          "data": {
            "text/plain": [
              "array([[ 0,  1,  2],\n",
              "       [ 3,  5,  7],\n",
              "       [ 9, 12, 15]])"
            ]
          },
          "metadata": {},
          "execution_count": 68
        }
      ],
      "source": [
        "arr.cumsum(axis=0)\n",
        "# 열의 누적합"
      ]
    },
    {
      "cell_type": "code",
      "source": [
        "arr.cumsum(axis=1)\n",
        "# 행의 누적합"
      ],
      "metadata": {
        "colab": {
          "base_uri": "https://localhost:8080/"
        },
        "id": "lbS0WIFrWLRO",
        "outputId": "ac990184-24db-4c5a-9c37-1ce14626c25c"
      },
      "execution_count": null,
      "outputs": [
        {
          "output_type": "execute_result",
          "data": {
            "text/plain": [
              "array([[ 0,  1,  3],\n",
              "       [ 3,  7, 12],\n",
              "       [ 6, 13, 21]])"
            ]
          },
          "metadata": {},
          "execution_count": 69
        }
      ]
    },
    {
      "cell_type": "markdown",
      "source": [
        "# 정렬"
      ],
      "metadata": {
        "id": "a5kdi67rZKVB"
      }
    },
    {
      "cell_type": "code",
      "execution_count": null,
      "metadata": {
        "id": "VJUnYJXSv__d",
        "colab": {
          "base_uri": "https://localhost:8080/"
        },
        "outputId": "d57f490a-b388-4d5f-d65d-77d5deb13f82"
      },
      "outputs": [
        {
          "output_type": "execute_result",
          "data": {
            "text/plain": [
              "array([-1.0794,  0.878 ,  0.2245, -0.5916,  0.2263,  0.6862])"
            ]
          },
          "metadata": {},
          "execution_count": 95
        }
      ],
      "source": [
        "arr = rng.standard_normal(6)\n",
        "arr"
      ]
    },
    {
      "cell_type": "code",
      "source": [
        "np.sort(arr)\n",
        "# 정렬 = 오름차순"
      ],
      "metadata": {
        "colab": {
          "base_uri": "https://localhost:8080/"
        },
        "id": "Hs-_XJfd-PUe",
        "outputId": "68f66122-35f1-4efe-ceea-e9e8be17cabe"
      },
      "execution_count": null,
      "outputs": [
        {
          "output_type": "execute_result",
          "data": {
            "text/plain": [
              "array([-1.0794, -0.5916,  0.2245,  0.2263,  0.6862,  0.878 ])"
            ]
          },
          "metadata": {},
          "execution_count": 96
        }
      ]
    },
    {
      "cell_type": "code",
      "source": [
        "arr\n",
        "# 원본 그대로 = 복사본 반환"
      ],
      "metadata": {
        "colab": {
          "base_uri": "https://localhost:8080/"
        },
        "id": "pgVTtj2E-WSo",
        "outputId": "e2af5093-6a05-40a9-f20f-7de383e45c23"
      },
      "execution_count": null,
      "outputs": [
        {
          "output_type": "execute_result",
          "data": {
            "text/plain": [
              "array([-1.0794,  0.878 ,  0.2245, -0.5916,  0.2263,  0.6862])"
            ]
          },
          "metadata": {},
          "execution_count": 97
        }
      ]
    },
    {
      "cell_type": "code",
      "source": [
        "np.sort(arr)[::-1]\n",
        "# 정렬 = 내림차순"
      ],
      "metadata": {
        "colab": {
          "base_uri": "https://localhost:8080/"
        },
        "id": "SSqXH4DdAF07",
        "outputId": "115444b8-938d-455b-9cee-13a37614491e"
      },
      "execution_count": null,
      "outputs": [
        {
          "output_type": "execute_result",
          "data": {
            "text/plain": [
              "array([ 0.878 ,  0.6862,  0.2263,  0.2245, -0.5916, -1.0794])"
            ]
          },
          "metadata": {},
          "execution_count": 98
        }
      ]
    },
    {
      "cell_type": "code",
      "source": [
        "arr\n",
        "# 원본 그대로 = 복사본 반환"
      ],
      "metadata": {
        "colab": {
          "base_uri": "https://localhost:8080/"
        },
        "outputId": "1ea7ce65-6fe8-45b9-e46a-aa17dc814ea5",
        "id": "3rqXtsTIAMLV"
      },
      "execution_count": null,
      "outputs": [
        {
          "output_type": "execute_result",
          "data": {
            "text/plain": [
              "array([-1.0794,  0.878 ,  0.2245, -0.5916,  0.2263,  0.6862])"
            ]
          },
          "metadata": {},
          "execution_count": 99
        }
      ]
    },
    {
      "cell_type": "code",
      "source": [
        "arr.sort()\n",
        "# 정렬 = 오름차순"
      ],
      "metadata": {
        "id": "FLxS3zH9ZOgE"
      },
      "execution_count": null,
      "outputs": []
    },
    {
      "cell_type": "code",
      "source": [
        "arr\n",
        "# 원본 변경 = 배열 자체를 정렬"
      ],
      "metadata": {
        "colab": {
          "base_uri": "https://localhost:8080/"
        },
        "id": "dz-3nbR1ZQ1A",
        "outputId": "6f54b1da-e6b7-45f9-9033-ee6118ec6898"
      },
      "execution_count": null,
      "outputs": [
        {
          "output_type": "execute_result",
          "data": {
            "text/plain": [
              "array([-1.0794, -0.5916,  0.2245,  0.2263,  0.6862,  0.878 ])"
            ]
          },
          "metadata": {},
          "execution_count": 101
        }
      ]
    },
    {
      "cell_type": "code",
      "source": [
        "# 구조가 있는 배열\n",
        "dtype = [('name', 'S10'), ('height', float), ('age', int)]\n",
        "values = [('Arthur', 1.8, 41), ('Lancelot', 1.9, 38), ('Galahad', 1.7, 38)]\n",
        "a = np.array(values, dtype=dtype)\n",
        "np.sort(a, order='height')"
      ],
      "metadata": {
        "colab": {
          "base_uri": "https://localhost:8080/"
        },
        "id": "O-enoV2xAn5D",
        "outputId": "85b39827-f9bb-4a74-9201-21549d9f0883"
      },
      "execution_count": null,
      "outputs": [
        {
          "output_type": "execute_result",
          "data": {
            "text/plain": [
              "array([(b'Galahad', 1.7, 38), (b'Arthur', 1.8, 41),\n",
              "       (b'Lancelot', 1.9, 38)],\n",
              "      dtype=[('name', 'S10'), ('height', '<f8'), ('age', '<i8')])"
            ]
          },
          "metadata": {},
          "execution_count": 103
        }
      ]
    },
    {
      "cell_type": "code",
      "execution_count": null,
      "metadata": {
        "id": "i_yYJG-zv__d",
        "colab": {
          "base_uri": "https://localhost:8080/"
        },
        "outputId": "574c5d92-4047-4fc9-e493-76cd271dc655"
      },
      "outputs": [
        {
          "output_type": "execute_result",
          "data": {
            "text/plain": [
              "array([[-1.3678,  0.6489,  0.3611],\n",
              "       [-1.9529,  2.3474,  0.9685],\n",
              "       [-0.7594,  0.9022, -0.467 ],\n",
              "       [-0.0607,  0.7888, -1.2567],\n",
              "       [ 0.5759,  1.399 ,  1.3223]])"
            ]
          },
          "metadata": {},
          "execution_count": 18
        }
      ],
      "source": [
        "arr = rng.standard_normal((5, 3))\n",
        "arr"
      ]
    },
    {
      "cell_type": "code",
      "source": [
        "arr.sort(axis=1)\n",
        "arr\n",
        "# 행의 값 정렬 = 좌에서 우로 정렬"
      ],
      "metadata": {
        "colab": {
          "base_uri": "https://localhost:8080/"
        },
        "id": "L5zJ5fdKZchO",
        "outputId": "c43e7009-6854-4504-b4ec-1fbf45cf89c6"
      },
      "execution_count": null,
      "outputs": [
        {
          "output_type": "execute_result",
          "data": {
            "text/plain": [
              "array([[-1.3678,  0.3611,  0.6489],\n",
              "       [-1.9529,  0.9685,  2.3474],\n",
              "       [-0.7594, -0.467 ,  0.9022],\n",
              "       [-1.2567, -0.0607,  0.7888],\n",
              "       [ 0.5759,  1.3223,  1.399 ]])"
            ]
          },
          "metadata": {},
          "execution_count": 19
        }
      ]
    },
    {
      "cell_type": "code",
      "execution_count": null,
      "metadata": {
        "id": "PrfLK-aQv__d",
        "colab": {
          "base_uri": "https://localhost:8080/"
        },
        "outputId": "810ae89f-553c-49dd-b5a7-45aa3e5b940c"
      },
      "outputs": [
        {
          "output_type": "execute_result",
          "data": {
            "text/plain": [
              "array([[-1.9529, -0.467 ,  0.6489],\n",
              "       [-1.3678, -0.0607,  0.7888],\n",
              "       [-1.2567,  0.3611,  0.9022],\n",
              "       [-0.7594,  0.9685,  1.399 ],\n",
              "       [ 0.5759,  1.3223,  2.3474]])"
            ]
          },
          "metadata": {},
          "execution_count": 20
        }
      ],
      "source": [
        "arr.sort(axis=0)\n",
        "arr\n",
        "# 열의 값 정렬 = 위에서 아래로 정렬"
      ]
    },
    {
      "cell_type": "code",
      "source": [
        "np.sort(arr)[::-1]\n",
        "# 열의 값 정렬을 반대로 = 아래에서 위로 정렬"
      ],
      "metadata": {
        "colab": {
          "base_uri": "https://localhost:8080/"
        },
        "id": "RWgYrOus_Agy",
        "outputId": "0e39fb73-278e-46b5-bed8-52c1dfc3e290"
      },
      "execution_count": null,
      "outputs": [
        {
          "output_type": "execute_result",
          "data": {
            "text/plain": [
              "array([[ 0.5759,  1.3223,  2.3474],\n",
              "       [-0.7594,  0.9685,  1.399 ],\n",
              "       [-1.2567,  0.3611,  0.9022],\n",
              "       [-1.3678, -0.0607,  0.7888],\n",
              "       [-1.9529, -0.467 ,  0.6489]])"
            ]
          },
          "metadata": {},
          "execution_count": 21
        }
      ]
    },
    {
      "cell_type": "markdown",
      "source": [
        "# 선형대수"
      ],
      "metadata": {
        "id": "cDOBmKezvMUF"
      }
    },
    {
      "cell_type": "code",
      "source": [
        "x.dot(y)\n",
        "# x 와 y 의 행렬 곱셈"
      ],
      "metadata": {
        "colab": {
          "base_uri": "https://localhost:8080/"
        },
        "id": "I16p5qPt0m0m",
        "outputId": "2173fbf7-d3e9-46a1-8645-e4bd51a6f807"
      },
      "execution_count": null,
      "outputs": [
        {
          "output_type": "execute_result",
          "data": {
            "text/plain": [
              "array([[ 28.,  64.],\n",
              "       [ 67., 181.]])"
            ]
          },
          "metadata": {},
          "execution_count": 125
        }
      ]
    },
    {
      "cell_type": "code",
      "execution_count": null,
      "metadata": {
        "id": "ZpMlzaxdv__e",
        "colab": {
          "base_uri": "https://localhost:8080/"
        },
        "outputId": "71a91786-ced9-4eb4-c3ee-049bacac4a3c"
      },
      "outputs": [
        {
          "output_type": "execute_result",
          "data": {
            "text/plain": [
              "array([[ 28.,  64.],\n",
              "       [ 67., 181.]])"
            ]
          },
          "metadata": {},
          "execution_count": 126
        }
      ],
      "source": [
        "np.dot(x, y)\n",
        "# x 와 y 의 행렬 곱셈\n",
        "# 2 * 3 dot 3 * 2 = 2 * 2\n",
        "# 만나는 차원의 수가 같아야 함 => 3 = 3\n",
        "# 같은 차원의 대응하는 값을 곱하여 모두 더하는 방식"
      ]
    },
    {
      "cell_type": "code",
      "source": [
        "print((1 * 6) + (2 * -1) + (3 * 8))\n",
        "print((1 * 23) + (2 * 7) + (3 * 9))\n",
        "print((4 * 6) + (5 * -1) + (6 * 8))\n",
        "print((4 * 23) + (5 * 7) + (6 * 9))"
      ],
      "metadata": {
        "colab": {
          "base_uri": "https://localhost:8080/"
        },
        "id": "kuTECbMIRYlA",
        "outputId": "d189532f-e9e0-436e-b086-90deb5db4696"
      },
      "execution_count": null,
      "outputs": [
        {
          "output_type": "stream",
          "name": "stdout",
          "text": [
            "28\n",
            "64\n",
            "67\n",
            "181\n"
          ]
        }
      ]
    },
    {
      "cell_type": "code",
      "source": [
        "# 1 로 채워진 배열\n",
        "np.ones(3)"
      ],
      "metadata": {
        "colab": {
          "base_uri": "https://localhost:8080/"
        },
        "id": "zNDUNwG81LAp",
        "outputId": "0e751bd8-52f7-4899-e200-3264239e4dc7"
      },
      "execution_count": null,
      "outputs": [
        {
          "output_type": "execute_result",
          "data": {
            "text/plain": [
              "array([1., 1., 1.])"
            ]
          },
          "metadata": {},
          "execution_count": 130
        }
      ]
    },
    {
      "cell_type": "code",
      "source": [
        "x"
      ],
      "metadata": {
        "colab": {
          "base_uri": "https://localhost:8080/"
        },
        "id": "v3NIfnaISxZ8",
        "outputId": "59eea0a0-c83e-42ed-95a6-62f115343f4a"
      },
      "execution_count": null,
      "outputs": [
        {
          "output_type": "execute_result",
          "data": {
            "text/plain": [
              "array([[1., 2., 3.],\n",
              "       [4., 5., 6.]])"
            ]
          },
          "metadata": {},
          "execution_count": 131
        }
      ]
    },
    {
      "cell_type": "code",
      "source": [
        "print(x.shape)\n",
        "print(np.ones(3).shape)"
      ],
      "metadata": {
        "colab": {
          "base_uri": "https://localhost:8080/"
        },
        "id": "AJ_pDEyRTKTu",
        "outputId": "12b9f3c7-de83-4a6b-abad-7ecfcc19af12"
      },
      "execution_count": null,
      "outputs": [
        {
          "output_type": "stream",
          "name": "stdout",
          "text": [
            "(2, 3)\n",
            "(3,)\n"
          ]
        }
      ]
    },
    {
      "cell_type": "code",
      "execution_count": null,
      "metadata": {
        "id": "4Z_XLUdbv__e",
        "colab": {
          "base_uri": "https://localhost:8080/"
        },
        "outputId": "64999846-dc7f-4c28-ceeb-5a2089c1bbc6"
      },
      "outputs": [
        {
          "output_type": "execute_result",
          "data": {
            "text/plain": [
              "array([ 6., 15.])"
            ]
          },
          "metadata": {},
          "execution_count": 132
        }
      ],
      "source": [
        "x @ np.ones(3)\n",
        "# 2 * 3 @ 3 * 1 = 2 * 1 = 1차원 배열"
      ]
    },
    {
      "cell_type": "code",
      "source": [
        "x = np.array([[1, 2], [3, 4]])\n",
        "x"
      ],
      "metadata": {
        "colab": {
          "base_uri": "https://localhost:8080/"
        },
        "id": "2nkSBsyo_VXA",
        "outputId": "f05141cc-4b8d-49bb-b808-37161e3011ba"
      },
      "execution_count": null,
      "outputs": [
        {
          "output_type": "execute_result",
          "data": {
            "text/plain": [
              "array([[1, 2],\n",
              "       [3, 4]])"
            ]
          },
          "metadata": {},
          "execution_count": 136
        }
      ]
    },
    {
      "cell_type": "code",
      "source": [
        "np.diag(x)\n",
        "# 대각선 원소를 1차원 배열로 반환"
      ],
      "metadata": {
        "colab": {
          "base_uri": "https://localhost:8080/"
        },
        "id": "JBBdLc58-zhc",
        "outputId": "4ce38530-b14d-4501-c278-cfc916e84301"
      },
      "execution_count": null,
      "outputs": [
        {
          "output_type": "execute_result",
          "data": {
            "text/plain": [
              "array([1, 4])"
            ]
          },
          "metadata": {},
          "execution_count": 137
        }
      ]
    },
    {
      "cell_type": "code",
      "source": [
        "np.trace(x)\n",
        "# 대각선의 합"
      ],
      "metadata": {
        "colab": {
          "base_uri": "https://localhost:8080/"
        },
        "id": "Ga5K8x3L97w8",
        "outputId": "b0e671a5-df9f-41c2-85ac-4fd0283fade2"
      },
      "execution_count": null,
      "outputs": [
        {
          "output_type": "execute_result",
          "data": {
            "text/plain": [
              "5"
            ]
          },
          "metadata": {},
          "execution_count": 138
        }
      ]
    },
    {
      "cell_type": "code",
      "execution_count": null,
      "metadata": {
        "id": "wHkHPoebv__e",
        "colab": {
          "base_uri": "https://localhost:8080/"
        },
        "outputId": "6a017f38-afe4-48e6-d6c7-2cda5599ef78"
      },
      "outputs": [
        {
          "output_type": "execute_result",
          "data": {
            "text/plain": [
              "array([[ 1.5554, -1.2381],\n",
              "       [-1.1962, -0.4291]])"
            ]
          },
          "metadata": {},
          "execution_count": 139
        }
      ],
      "source": [
        "# 선형대수 함수\n",
        "from numpy.linalg import inv\n",
        "X = rng.standard_normal((2, 2))\n",
        "X\n",
        "# 정사각행렬"
      ]
    },
    {
      "cell_type": "code",
      "source": [
        "X.T"
      ],
      "metadata": {
        "colab": {
          "base_uri": "https://localhost:8080/"
        },
        "id": "LKKaOedzUUEA",
        "outputId": "05f70638-d1bf-4d6b-fb25-1762fb0a93f9"
      },
      "execution_count": null,
      "outputs": [
        {
          "output_type": "execute_result",
          "data": {
            "text/plain": [
              "array([[ 1.5554, -1.1962],\n",
              "       [-1.2381, -0.4291]])"
            ]
          },
          "metadata": {},
          "execution_count": 140
        }
      ]
    },
    {
      "cell_type": "code",
      "source": [
        "mat = X.T @ X\n",
        "mat\n",
        "# 정사각행렬 곱\n",
        "# 2 * 2 @ 2 * 2 = 2 * 2"
      ],
      "metadata": {
        "colab": {
          "base_uri": "https://localhost:8080/"
        },
        "id": "R-gBy71z24Vp",
        "outputId": "2a51b176-cc64-4ae9-a4d8-d5cf3b139688"
      },
      "execution_count": null,
      "outputs": [
        {
          "output_type": "execute_result",
          "data": {
            "text/plain": [
              "array([[ 3.85  , -1.4124],\n",
              "       [-1.4124,  1.7172]])"
            ]
          },
          "metadata": {},
          "execution_count": 141
        }
      ]
    },
    {
      "cell_type": "code",
      "source": [
        "print((1.5554 * 1.5554) + (-1.1962 * -1.1962))"
      ],
      "metadata": {
        "colab": {
          "base_uri": "https://localhost:8080/"
        },
        "id": "QRTvG1veV8cf",
        "outputId": "bdcad937-9b9e-451d-eb4e-c342bcbe8154"
      },
      "execution_count": null,
      "outputs": [
        {
          "output_type": "stream",
          "name": "stdout",
          "text": [
            "3.8501635999999997\n"
          ]
        }
      ]
    },
    {
      "cell_type": "code",
      "source": [
        "inv(mat)\n",
        "# 정사각행렬의 역행렬 = 두 행렬을 곱하여 단위행렬이 되는 행렬\n",
        "# 단위행렬 = 대각선 원소가 모두 1이고 다른 원소는 모두 0 인 행렬"
      ],
      "metadata": {
        "colab": {
          "base_uri": "https://localhost:8080/"
        },
        "id": "m-Hc1OR23Cie",
        "outputId": "1f46ea63-29ef-484a-fc18-2454909f01df"
      },
      "execution_count": null,
      "outputs": [
        {
          "output_type": "execute_result",
          "data": {
            "text/plain": [
              "array([[0.372, 0.306],\n",
              "       [0.306, 0.834]])"
            ]
          },
          "metadata": {},
          "execution_count": 143
        }
      ]
    },
    {
      "cell_type": "code",
      "source": [
        "np.dot(mat, inv(mat))\n",
        "# 정사각행렬과 정사각행렬의 역행렬을 곱하면 단위행렬"
      ],
      "metadata": {
        "colab": {
          "base_uri": "https://localhost:8080/"
        },
        "id": "VtxRXYqG3fTD",
        "outputId": "17cd8f5d-dbb1-48d8-b028-61ab7bff9dae"
      },
      "execution_count": null,
      "outputs": [
        {
          "output_type": "execute_result",
          "data": {
            "text/plain": [
              "array([[ 1.,  0.],\n",
              "       [-0.,  1.]])"
            ]
          },
          "metadata": {},
          "execution_count": 144
        }
      ]
    },
    {
      "cell_type": "code",
      "source": [
        "mat @ inv(mat)"
      ],
      "metadata": {
        "colab": {
          "base_uri": "https://localhost:8080/"
        },
        "id": "R5LDNtq13LE2",
        "outputId": "47857497-916b-4be1-c6ac-d2998e84d933"
      },
      "execution_count": null,
      "outputs": [
        {
          "output_type": "execute_result",
          "data": {
            "text/plain": [
              "array([[ 1.,  0.],\n",
              "       [-0.,  1.]])"
            ]
          },
          "metadata": {},
          "execution_count": 145
        }
      ]
    },
    {
      "cell_type": "code",
      "source": [
        "np.identity(n = 2, dtype = float)\n",
        "# 단위행렬 만들기"
      ],
      "metadata": {
        "colab": {
          "base_uri": "https://localhost:8080/"
        },
        "id": "rK_drpn1HM_S",
        "outputId": "83525870-eb2f-4c60-e618-71f8b5ee398c"
      },
      "execution_count": null,
      "outputs": [
        {
          "output_type": "execute_result",
          "data": {
            "text/plain": [
              "array([[1., 0.],\n",
              "       [0., 1.]])"
            ]
          },
          "metadata": {},
          "execution_count": 146
        }
      ]
    },
    {
      "cell_type": "code",
      "source": [
        "from numpy.linalg import det\n",
        "x = np.array([[1, 2], [3, 4]])\n",
        "x"
      ],
      "metadata": {
        "colab": {
          "base_uri": "https://localhost:8080/"
        },
        "id": "GbCs5ZDi7vLe",
        "outputId": "f24373ad-d7ec-48f8-f077-21236ea21e4c"
      },
      "execution_count": null,
      "outputs": [
        {
          "output_type": "execute_result",
          "data": {
            "text/plain": [
              "array([[1, 2],\n",
              "       [3, 4]])"
            ]
          },
          "metadata": {},
          "execution_count": 147
        }
      ]
    },
    {
      "cell_type": "code",
      "source": [
        "det(x)\n",
        "# 행렬식 계산 = ad - bc"
      ],
      "metadata": {
        "id": "vocJxx8d_m_r",
        "outputId": "c23b7122-db9d-42ba-ecdc-76094c678927",
        "colab": {
          "base_uri": "https://localhost:8080/"
        }
      },
      "execution_count": null,
      "outputs": [
        {
          "output_type": "execute_result",
          "data": {
            "text/plain": [
              "-2.0000000000000004"
            ]
          },
          "metadata": {},
          "execution_count": 148
        }
      ]
    },
    {
      "cell_type": "code",
      "source": [
        "(1 * 4) - (2 * 3)"
      ],
      "metadata": {
        "colab": {
          "base_uri": "https://localhost:8080/"
        },
        "id": "GkMNcq2U9S1j",
        "outputId": "9d0fc062-9608-4f1a-ff1b-cb47a442a5a9"
      },
      "execution_count": null,
      "outputs": [
        {
          "output_type": "execute_result",
          "data": {
            "text/plain": [
              "-2"
            ]
          },
          "metadata": {},
          "execution_count": 258
        }
      ]
    }
  ]
}